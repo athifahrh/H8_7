{
 "cells": [
  {
   "cell_type": "markdown",
   "id": "79e42710",
   "metadata": {},
   "source": [
    "# Libraries"
   ]
  },
  {
   "cell_type": "code",
   "execution_count": 1,
   "id": "14710906",
   "metadata": {},
   "outputs": [],
   "source": [
    "import numpy as np\n",
    "import pandas as pd\n",
    "import matplotlib.pyplot as plt\n",
    "import seaborn as sns\n",
    "import math\n",
    "import statistics\n",
    "import scipy.stats\n",
    "from statistics import NormalDist\n",
    "from scipy.stats import gaussian_kde\n",
    "from scipy.stats import shapiro,jarque_bera\n",
    "from statsmodels.stats.diagnostic import lilliefors\n",
    "from scipy.stats import shapiro"
   ]
  },
  {
   "cell_type": "markdown",
   "id": "7b2fb08e",
   "metadata": {},
   "source": [
    "# Data"
   ]
  },
  {
   "cell_type": "markdown",
   "id": "e2ee28b5",
   "metadata": {},
   "source": [
    "Read the CSV file as nyc_property"
   ]
  },
  {
   "cell_type": "code",
   "execution_count": 2,
   "id": "e27120b6",
   "metadata": {},
   "outputs": [],
   "source": [
    "nyc_property = pd.read_csv(\"nyc-rolling-sales.csv\")"
   ]
  },
  {
   "cell_type": "code",
   "execution_count": 3,
   "id": "864cd6c3",
   "metadata": {},
   "outputs": [
    {
     "data": {
      "text/html": [
       "<div>\n",
       "<style scoped>\n",
       "    .dataframe tbody tr th:only-of-type {\n",
       "        vertical-align: middle;\n",
       "    }\n",
       "\n",
       "    .dataframe tbody tr th {\n",
       "        vertical-align: top;\n",
       "    }\n",
       "\n",
       "    .dataframe thead th {\n",
       "        text-align: right;\n",
       "    }\n",
       "</style>\n",
       "<table border=\"1\" class=\"dataframe\">\n",
       "  <thead>\n",
       "    <tr style=\"text-align: right;\">\n",
       "      <th></th>\n",
       "      <th>Unnamed: 0</th>\n",
       "      <th>BOROUGH</th>\n",
       "      <th>NEIGHBORHOOD</th>\n",
       "      <th>BUILDING CLASS CATEGORY</th>\n",
       "      <th>TAX CLASS AT PRESENT</th>\n",
       "      <th>BLOCK</th>\n",
       "      <th>LOT</th>\n",
       "      <th>EASE-MENT</th>\n",
       "      <th>BUILDING CLASS AT PRESENT</th>\n",
       "      <th>ADDRESS</th>\n",
       "      <th>...</th>\n",
       "      <th>RESIDENTIAL UNITS</th>\n",
       "      <th>COMMERCIAL UNITS</th>\n",
       "      <th>TOTAL UNITS</th>\n",
       "      <th>LAND SQUARE FEET</th>\n",
       "      <th>GROSS SQUARE FEET</th>\n",
       "      <th>YEAR BUILT</th>\n",
       "      <th>TAX CLASS AT TIME OF SALE</th>\n",
       "      <th>BUILDING CLASS AT TIME OF SALE</th>\n",
       "      <th>SALE PRICE</th>\n",
       "      <th>SALE DATE</th>\n",
       "    </tr>\n",
       "  </thead>\n",
       "  <tbody>\n",
       "    <tr>\n",
       "      <th>0</th>\n",
       "      <td>4</td>\n",
       "      <td>1</td>\n",
       "      <td>ALPHABET CITY</td>\n",
       "      <td>07 RENTALS - WALKUP APARTMENTS</td>\n",
       "      <td>2A</td>\n",
       "      <td>392</td>\n",
       "      <td>6</td>\n",
       "      <td></td>\n",
       "      <td>C2</td>\n",
       "      <td>153 AVENUE B</td>\n",
       "      <td>...</td>\n",
       "      <td>5</td>\n",
       "      <td>0</td>\n",
       "      <td>5</td>\n",
       "      <td>1633</td>\n",
       "      <td>6440</td>\n",
       "      <td>1900</td>\n",
       "      <td>2</td>\n",
       "      <td>C2</td>\n",
       "      <td>6625000</td>\n",
       "      <td>2017-07-19 00:00:00</td>\n",
       "    </tr>\n",
       "    <tr>\n",
       "      <th>1</th>\n",
       "      <td>5</td>\n",
       "      <td>1</td>\n",
       "      <td>ALPHABET CITY</td>\n",
       "      <td>07 RENTALS - WALKUP APARTMENTS</td>\n",
       "      <td>2</td>\n",
       "      <td>399</td>\n",
       "      <td>26</td>\n",
       "      <td></td>\n",
       "      <td>C7</td>\n",
       "      <td>234 EAST 4TH   STREET</td>\n",
       "      <td>...</td>\n",
       "      <td>28</td>\n",
       "      <td>3</td>\n",
       "      <td>31</td>\n",
       "      <td>4616</td>\n",
       "      <td>18690</td>\n",
       "      <td>1900</td>\n",
       "      <td>2</td>\n",
       "      <td>C7</td>\n",
       "      <td>-</td>\n",
       "      <td>2016-12-14 00:00:00</td>\n",
       "    </tr>\n",
       "    <tr>\n",
       "      <th>2</th>\n",
       "      <td>6</td>\n",
       "      <td>1</td>\n",
       "      <td>ALPHABET CITY</td>\n",
       "      <td>07 RENTALS - WALKUP APARTMENTS</td>\n",
       "      <td>2</td>\n",
       "      <td>399</td>\n",
       "      <td>39</td>\n",
       "      <td></td>\n",
       "      <td>C7</td>\n",
       "      <td>197 EAST 3RD   STREET</td>\n",
       "      <td>...</td>\n",
       "      <td>16</td>\n",
       "      <td>1</td>\n",
       "      <td>17</td>\n",
       "      <td>2212</td>\n",
       "      <td>7803</td>\n",
       "      <td>1900</td>\n",
       "      <td>2</td>\n",
       "      <td>C7</td>\n",
       "      <td>-</td>\n",
       "      <td>2016-12-09 00:00:00</td>\n",
       "    </tr>\n",
       "    <tr>\n",
       "      <th>3</th>\n",
       "      <td>7</td>\n",
       "      <td>1</td>\n",
       "      <td>ALPHABET CITY</td>\n",
       "      <td>07 RENTALS - WALKUP APARTMENTS</td>\n",
       "      <td>2B</td>\n",
       "      <td>402</td>\n",
       "      <td>21</td>\n",
       "      <td></td>\n",
       "      <td>C4</td>\n",
       "      <td>154 EAST 7TH STREET</td>\n",
       "      <td>...</td>\n",
       "      <td>10</td>\n",
       "      <td>0</td>\n",
       "      <td>10</td>\n",
       "      <td>2272</td>\n",
       "      <td>6794</td>\n",
       "      <td>1913</td>\n",
       "      <td>2</td>\n",
       "      <td>C4</td>\n",
       "      <td>3936272</td>\n",
       "      <td>2016-09-23 00:00:00</td>\n",
       "    </tr>\n",
       "    <tr>\n",
       "      <th>4</th>\n",
       "      <td>8</td>\n",
       "      <td>1</td>\n",
       "      <td>ALPHABET CITY</td>\n",
       "      <td>07 RENTALS - WALKUP APARTMENTS</td>\n",
       "      <td>2A</td>\n",
       "      <td>404</td>\n",
       "      <td>55</td>\n",
       "      <td></td>\n",
       "      <td>C2</td>\n",
       "      <td>301 EAST 10TH   STREET</td>\n",
       "      <td>...</td>\n",
       "      <td>6</td>\n",
       "      <td>0</td>\n",
       "      <td>6</td>\n",
       "      <td>2369</td>\n",
       "      <td>4615</td>\n",
       "      <td>1900</td>\n",
       "      <td>2</td>\n",
       "      <td>C2</td>\n",
       "      <td>8000000</td>\n",
       "      <td>2016-11-17 00:00:00</td>\n",
       "    </tr>\n",
       "  </tbody>\n",
       "</table>\n",
       "<p>5 rows × 22 columns</p>\n",
       "</div>"
      ],
      "text/plain": [
       "   Unnamed: 0  BOROUGH   NEIGHBORHOOD  \\\n",
       "0           4        1  ALPHABET CITY   \n",
       "1           5        1  ALPHABET CITY   \n",
       "2           6        1  ALPHABET CITY   \n",
       "3           7        1  ALPHABET CITY   \n",
       "4           8        1  ALPHABET CITY   \n",
       "\n",
       "                       BUILDING CLASS CATEGORY TAX CLASS AT PRESENT  BLOCK  \\\n",
       "0  07 RENTALS - WALKUP APARTMENTS                                2A    392   \n",
       "1  07 RENTALS - WALKUP APARTMENTS                                 2    399   \n",
       "2  07 RENTALS - WALKUP APARTMENTS                                 2    399   \n",
       "3  07 RENTALS - WALKUP APARTMENTS                                2B    402   \n",
       "4  07 RENTALS - WALKUP APARTMENTS                                2A    404   \n",
       "\n",
       "   LOT EASE-MENT BUILDING CLASS AT PRESENT                 ADDRESS  ...  \\\n",
       "0    6                                  C2            153 AVENUE B  ...   \n",
       "1   26                                  C7   234 EAST 4TH   STREET  ...   \n",
       "2   39                                  C7   197 EAST 3RD   STREET  ...   \n",
       "3   21                                  C4     154 EAST 7TH STREET  ...   \n",
       "4   55                                  C2  301 EAST 10TH   STREET  ...   \n",
       "\n",
       "  RESIDENTIAL UNITS  COMMERCIAL UNITS  TOTAL UNITS  LAND SQUARE FEET  \\\n",
       "0                 5                 0            5              1633   \n",
       "1                28                 3           31              4616   \n",
       "2                16                 1           17              2212   \n",
       "3                10                 0           10              2272   \n",
       "4                 6                 0            6              2369   \n",
       "\n",
       "   GROSS SQUARE FEET YEAR BUILT TAX CLASS AT TIME OF SALE  \\\n",
       "0               6440       1900                         2   \n",
       "1              18690       1900                         2   \n",
       "2               7803       1900                         2   \n",
       "3               6794       1913                         2   \n",
       "4               4615       1900                         2   \n",
       "\n",
       "   BUILDING CLASS AT TIME OF SALE  SALE PRICE            SALE DATE  \n",
       "0                              C2     6625000  2017-07-19 00:00:00  \n",
       "1                              C7         -    2016-12-14 00:00:00  \n",
       "2                              C7         -    2016-12-09 00:00:00  \n",
       "3                              C4     3936272  2016-09-23 00:00:00  \n",
       "4                              C2     8000000  2016-11-17 00:00:00  \n",
       "\n",
       "[5 rows x 22 columns]"
      ]
     },
     "execution_count": 3,
     "metadata": {},
     "output_type": "execute_result"
    }
   ],
   "source": [
    "nyc_property.head()"
   ]
  },
  {
   "cell_type": "markdown",
   "id": "37b81eb7",
   "metadata": {},
   "source": [
    "# Cleaning Data"
   ]
  },
  {
   "cell_type": "markdown",
   "id": "edec72d8",
   "metadata": {},
   "source": [
    "Make a copy of the original data by defining it as df, so the original data is not corrupt"
   ]
  },
  {
   "cell_type": "code",
   "execution_count": 4,
   "id": "1912873d",
   "metadata": {},
   "outputs": [],
   "source": [
    "df = nyc_property.copy()"
   ]
  },
  {
   "cell_type": "markdown",
   "id": "3e7b01c4",
   "metadata": {},
   "source": [
    "Remove irrelevant columns"
   ]
  },
  {
   "cell_type": "code",
   "execution_count": 5,
   "id": "183d0496",
   "metadata": {},
   "outputs": [],
   "source": [
    "df = df.drop([\"Unnamed: 0\"],axis=1)"
   ]
  },
  {
   "cell_type": "code",
   "execution_count": 6,
   "id": "b73d8ae6",
   "metadata": {},
   "outputs": [],
   "source": [
    "df.columns = df.columns.str.replace(\" \",\"_\")"
   ]
  },
  {
   "cell_type": "code",
   "execution_count": 7,
   "id": "c6dda365",
   "metadata": {},
   "outputs": [
    {
     "name": "stdout",
     "output_type": "stream",
     "text": [
      "<class 'pandas.core.frame.DataFrame'>\n",
      "RangeIndex: 84548 entries, 0 to 84547\n",
      "Data columns (total 21 columns):\n",
      " #   Column                          Non-Null Count  Dtype \n",
      "---  ------                          --------------  ----- \n",
      " 0   BOROUGH                         84548 non-null  int64 \n",
      " 1   NEIGHBORHOOD                    84548 non-null  object\n",
      " 2   BUILDING_CLASS_CATEGORY         84548 non-null  object\n",
      " 3   TAX_CLASS_AT_PRESENT            84548 non-null  object\n",
      " 4   BLOCK                           84548 non-null  int64 \n",
      " 5   LOT                             84548 non-null  int64 \n",
      " 6   EASE-MENT                       84548 non-null  object\n",
      " 7   BUILDING_CLASS_AT_PRESENT       84548 non-null  object\n",
      " 8   ADDRESS                         84548 non-null  object\n",
      " 9   APARTMENT_NUMBER                84548 non-null  object\n",
      " 10  ZIP_CODE                        84548 non-null  int64 \n",
      " 11  RESIDENTIAL_UNITS               84548 non-null  int64 \n",
      " 12  COMMERCIAL_UNITS                84548 non-null  int64 \n",
      " 13  TOTAL_UNITS                     84548 non-null  int64 \n",
      " 14  LAND_SQUARE_FEET                84548 non-null  object\n",
      " 15  GROSS_SQUARE_FEET               84548 non-null  object\n",
      " 16  YEAR_BUILT                      84548 non-null  int64 \n",
      " 17  TAX_CLASS_AT_TIME_OF_SALE       84548 non-null  int64 \n",
      " 18  BUILDING_CLASS_AT_TIME_OF_SALE  84548 non-null  object\n",
      " 19  SALE_PRICE                      84548 non-null  object\n",
      " 20  SALE_DATE                       84548 non-null  object\n",
      "dtypes: int64(9), object(12)\n",
      "memory usage: 13.5+ MB\n"
     ]
    }
   ],
   "source": [
    "df.info()"
   ]
  },
  {
   "cell_type": "markdown",
   "id": "a68c845d",
   "metadata": {},
   "source": [
    "Convert to numeric variables"
   ]
  },
  {
   "cell_type": "code",
   "execution_count": 8,
   "id": "daf57715",
   "metadata": {},
   "outputs": [],
   "source": [
    "numeric = [\"RESIDENTIAL_UNITS\",\"COMMERCIAL_UNITS\",\"TOTAL_UNITS\", \"LAND_SQUARE_FEET\" , \"GROSS_SQUARE_FEET\",\"SALE_PRICE\"]\n",
    "\n",
    "for col in numeric: \n",
    "    df[col] = pd.to_numeric(df[col], errors='coerce')"
   ]
  },
  {
   "cell_type": "markdown",
   "id": "b70f8fdc",
   "metadata": {},
   "source": [
    "Convert to categorical variables"
   ]
  },
  {
   "cell_type": "code",
   "execution_count": 9,
   "id": "b2729c2e",
   "metadata": {},
   "outputs": [],
   "source": [
    "categorical = ['BOROUGH','NEIGHBORHOOD','BUILDING_CLASS_CATEGORY', 'TAX_CLASS_AT_PRESENT', 'BUILDING_CLASS_AT_PRESENT','ZIP_CODE', 'YEAR_BUILT', 'BUILDING_CLASS_AT_TIME_OF_SALE', 'TAX_CLASS_AT_TIME_OF_SALE']\n",
    "\n",
    "for col in categorical: \n",
    "    df[col] = df[col].astype(\"category\")"
   ]
  },
  {
   "cell_type": "markdown",
   "id": "5b2cc40b",
   "metadata": {},
   "source": [
    "Convert to datetime variable:"
   ]
  },
  {
   "cell_type": "code",
   "execution_count": 10,
   "id": "5e437a58",
   "metadata": {},
   "outputs": [],
   "source": [
    "df[\"SALE_DATE\"] = pd.to_datetime(df[\"SALE_DATE\"])"
   ]
  },
  {
   "cell_type": "markdown",
   "id": "93eebefd",
   "metadata": {},
   "source": [
    "Rename borough: \n",
    "- 1 = Manhattan \n",
    "- 2 = Bronx\n",
    "- 3 = Brooklyn\n",
    "- 4 = Queens \n",
    "- 5 = Staten Island"
   ]
  },
  {
   "cell_type": "code",
   "execution_count": 11,
   "id": "b6141d7d",
   "metadata": {},
   "outputs": [
    {
     "data": {
      "text/html": [
       "<div>\n",
       "<style scoped>\n",
       "    .dataframe tbody tr th:only-of-type {\n",
       "        vertical-align: middle;\n",
       "    }\n",
       "\n",
       "    .dataframe tbody tr th {\n",
       "        vertical-align: top;\n",
       "    }\n",
       "\n",
       "    .dataframe thead th {\n",
       "        text-align: right;\n",
       "    }\n",
       "</style>\n",
       "<table border=\"1\" class=\"dataframe\">\n",
       "  <thead>\n",
       "    <tr style=\"text-align: right;\">\n",
       "      <th></th>\n",
       "      <th>BOROUGH</th>\n",
       "      <th>NEIGHBORHOOD</th>\n",
       "      <th>BUILDING_CLASS_CATEGORY</th>\n",
       "      <th>TAX_CLASS_AT_PRESENT</th>\n",
       "      <th>BLOCK</th>\n",
       "      <th>LOT</th>\n",
       "      <th>EASE-MENT</th>\n",
       "      <th>BUILDING_CLASS_AT_PRESENT</th>\n",
       "      <th>ADDRESS</th>\n",
       "      <th>APARTMENT_NUMBER</th>\n",
       "      <th>...</th>\n",
       "      <th>RESIDENTIAL_UNITS</th>\n",
       "      <th>COMMERCIAL_UNITS</th>\n",
       "      <th>TOTAL_UNITS</th>\n",
       "      <th>LAND_SQUARE_FEET</th>\n",
       "      <th>GROSS_SQUARE_FEET</th>\n",
       "      <th>YEAR_BUILT</th>\n",
       "      <th>TAX_CLASS_AT_TIME_OF_SALE</th>\n",
       "      <th>BUILDING_CLASS_AT_TIME_OF_SALE</th>\n",
       "      <th>SALE_PRICE</th>\n",
       "      <th>SALE_DATE</th>\n",
       "    </tr>\n",
       "  </thead>\n",
       "  <tbody>\n",
       "    <tr>\n",
       "      <th>0</th>\n",
       "      <td>Manhattan</td>\n",
       "      <td>ALPHABET CITY</td>\n",
       "      <td>07 RENTALS - WALKUP APARTMENTS</td>\n",
       "      <td>2A</td>\n",
       "      <td>392</td>\n",
       "      <td>6</td>\n",
       "      <td></td>\n",
       "      <td>C2</td>\n",
       "      <td>153 AVENUE B</td>\n",
       "      <td></td>\n",
       "      <td>...</td>\n",
       "      <td>5</td>\n",
       "      <td>0</td>\n",
       "      <td>5</td>\n",
       "      <td>1633.0</td>\n",
       "      <td>6440.0</td>\n",
       "      <td>1900</td>\n",
       "      <td>2</td>\n",
       "      <td>C2</td>\n",
       "      <td>6625000.0</td>\n",
       "      <td>2017-07-19</td>\n",
       "    </tr>\n",
       "    <tr>\n",
       "      <th>1</th>\n",
       "      <td>Manhattan</td>\n",
       "      <td>ALPHABET CITY</td>\n",
       "      <td>07 RENTALS - WALKUP APARTMENTS</td>\n",
       "      <td>2</td>\n",
       "      <td>399</td>\n",
       "      <td>26</td>\n",
       "      <td></td>\n",
       "      <td>C7</td>\n",
       "      <td>234 EAST 4TH   STREET</td>\n",
       "      <td></td>\n",
       "      <td>...</td>\n",
       "      <td>28</td>\n",
       "      <td>3</td>\n",
       "      <td>31</td>\n",
       "      <td>4616.0</td>\n",
       "      <td>18690.0</td>\n",
       "      <td>1900</td>\n",
       "      <td>2</td>\n",
       "      <td>C7</td>\n",
       "      <td>NaN</td>\n",
       "      <td>2016-12-14</td>\n",
       "    </tr>\n",
       "    <tr>\n",
       "      <th>2</th>\n",
       "      <td>Manhattan</td>\n",
       "      <td>ALPHABET CITY</td>\n",
       "      <td>07 RENTALS - WALKUP APARTMENTS</td>\n",
       "      <td>2</td>\n",
       "      <td>399</td>\n",
       "      <td>39</td>\n",
       "      <td></td>\n",
       "      <td>C7</td>\n",
       "      <td>197 EAST 3RD   STREET</td>\n",
       "      <td></td>\n",
       "      <td>...</td>\n",
       "      <td>16</td>\n",
       "      <td>1</td>\n",
       "      <td>17</td>\n",
       "      <td>2212.0</td>\n",
       "      <td>7803.0</td>\n",
       "      <td>1900</td>\n",
       "      <td>2</td>\n",
       "      <td>C7</td>\n",
       "      <td>NaN</td>\n",
       "      <td>2016-12-09</td>\n",
       "    </tr>\n",
       "    <tr>\n",
       "      <th>3</th>\n",
       "      <td>Manhattan</td>\n",
       "      <td>ALPHABET CITY</td>\n",
       "      <td>07 RENTALS - WALKUP APARTMENTS</td>\n",
       "      <td>2B</td>\n",
       "      <td>402</td>\n",
       "      <td>21</td>\n",
       "      <td></td>\n",
       "      <td>C4</td>\n",
       "      <td>154 EAST 7TH STREET</td>\n",
       "      <td></td>\n",
       "      <td>...</td>\n",
       "      <td>10</td>\n",
       "      <td>0</td>\n",
       "      <td>10</td>\n",
       "      <td>2272.0</td>\n",
       "      <td>6794.0</td>\n",
       "      <td>1913</td>\n",
       "      <td>2</td>\n",
       "      <td>C4</td>\n",
       "      <td>3936272.0</td>\n",
       "      <td>2016-09-23</td>\n",
       "    </tr>\n",
       "    <tr>\n",
       "      <th>4</th>\n",
       "      <td>Manhattan</td>\n",
       "      <td>ALPHABET CITY</td>\n",
       "      <td>07 RENTALS - WALKUP APARTMENTS</td>\n",
       "      <td>2A</td>\n",
       "      <td>404</td>\n",
       "      <td>55</td>\n",
       "      <td></td>\n",
       "      <td>C2</td>\n",
       "      <td>301 EAST 10TH   STREET</td>\n",
       "      <td></td>\n",
       "      <td>...</td>\n",
       "      <td>6</td>\n",
       "      <td>0</td>\n",
       "      <td>6</td>\n",
       "      <td>2369.0</td>\n",
       "      <td>4615.0</td>\n",
       "      <td>1900</td>\n",
       "      <td>2</td>\n",
       "      <td>C2</td>\n",
       "      <td>8000000.0</td>\n",
       "      <td>2016-11-17</td>\n",
       "    </tr>\n",
       "  </tbody>\n",
       "</table>\n",
       "<p>5 rows × 21 columns</p>\n",
       "</div>"
      ],
      "text/plain": [
       "     BOROUGH   NEIGHBORHOOD                      BUILDING_CLASS_CATEGORY  \\\n",
       "0  Manhattan  ALPHABET CITY  07 RENTALS - WALKUP APARTMENTS                \n",
       "1  Manhattan  ALPHABET CITY  07 RENTALS - WALKUP APARTMENTS                \n",
       "2  Manhattan  ALPHABET CITY  07 RENTALS - WALKUP APARTMENTS                \n",
       "3  Manhattan  ALPHABET CITY  07 RENTALS - WALKUP APARTMENTS                \n",
       "4  Manhattan  ALPHABET CITY  07 RENTALS - WALKUP APARTMENTS                \n",
       "\n",
       "  TAX_CLASS_AT_PRESENT  BLOCK  LOT EASE-MENT BUILDING_CLASS_AT_PRESENT  \\\n",
       "0                   2A    392    6                                  C2   \n",
       "1                    2    399   26                                  C7   \n",
       "2                    2    399   39                                  C7   \n",
       "3                   2B    402   21                                  C4   \n",
       "4                   2A    404   55                                  C2   \n",
       "\n",
       "                  ADDRESS APARTMENT_NUMBER  ... RESIDENTIAL_UNITS  \\\n",
       "0            153 AVENUE B                   ...                 5   \n",
       "1   234 EAST 4TH   STREET                   ...                28   \n",
       "2   197 EAST 3RD   STREET                   ...                16   \n",
       "3     154 EAST 7TH STREET                   ...                10   \n",
       "4  301 EAST 10TH   STREET                   ...                 6   \n",
       "\n",
       "   COMMERCIAL_UNITS  TOTAL_UNITS  LAND_SQUARE_FEET  GROSS_SQUARE_FEET  \\\n",
       "0                 0            5            1633.0             6440.0   \n",
       "1                 3           31            4616.0            18690.0   \n",
       "2                 1           17            2212.0             7803.0   \n",
       "3                 0           10            2272.0             6794.0   \n",
       "4                 0            6            2369.0             4615.0   \n",
       "\n",
       "   YEAR_BUILT TAX_CLASS_AT_TIME_OF_SALE BUILDING_CLASS_AT_TIME_OF_SALE  \\\n",
       "0        1900                         2                             C2   \n",
       "1        1900                         2                             C7   \n",
       "2        1900                         2                             C7   \n",
       "3        1913                         2                             C4   \n",
       "4        1900                         2                             C2   \n",
       "\n",
       "  SALE_PRICE  SALE_DATE  \n",
       "0  6625000.0 2017-07-19  \n",
       "1        NaN 2016-12-14  \n",
       "2        NaN 2016-12-09  \n",
       "3  3936272.0 2016-09-23  \n",
       "4  8000000.0 2016-11-17  \n",
       "\n",
       "[5 rows x 21 columns]"
      ]
     },
     "execution_count": 11,
     "metadata": {},
     "output_type": "execute_result"
    }
   ],
   "source": [
    "def renaming_borough(x):\n",
    "    if x == 1:\n",
    "        return \"Manhattan\"\n",
    "    elif x == 2:\n",
    "        return \"Bronx\"\n",
    "    elif x == 3:\n",
    "        return \"Brooklyn\"\n",
    "    elif x == 4:\n",
    "        return \"Queens\"\n",
    "    else:\n",
    "        return \"Staten Island\"\n",
    "    \n",
    "df[\"BOROUGH\"] = df[\"BOROUGH\"].apply(renaming_borough)\n",
    "df.head()"
   ]
  },
  {
   "cell_type": "markdown",
   "id": "8ba245cc",
   "metadata": {},
   "source": [
    "Replace blank spaces with nan, then percentage the missing values"
   ]
  },
  {
   "cell_type": "code",
   "execution_count": 12,
   "id": "acd516e2",
   "metadata": {},
   "outputs": [
    {
     "data": {
      "text/plain": [
       "BOROUGH                             0.000000\n",
       "NEIGHBORHOOD                        0.000000\n",
       "BUILDING_CLASS_CATEGORY             0.000000\n",
       "TAX_CLASS_AT_PRESENT                0.872877\n",
       "BLOCK                               0.000000\n",
       "LOT                                 0.000000\n",
       "EASE-MENT                         100.000000\n",
       "BUILDING_CLASS_AT_PRESENT           0.872877\n",
       "ADDRESS                             0.000000\n",
       "APARTMENT_NUMBER                   77.466055\n",
       "ZIP_CODE                            0.000000\n",
       "RESIDENTIAL_UNITS                   0.000000\n",
       "COMMERCIAL_UNITS                    0.000000\n",
       "TOTAL_UNITS                         0.000000\n",
       "LAND_SQUARE_FEET                   31.049818\n",
       "GROSS_SQUARE_FEET                  32.658372\n",
       "YEAR_BUILT                          0.000000\n",
       "TAX_CLASS_AT_TIME_OF_SALE           0.000000\n",
       "BUILDING_CLASS_AT_TIME_OF_SALE      0.000000\n",
       "SALE_PRICE                         17.222170\n",
       "SALE_DATE                           0.000000\n",
       "dtype: float64"
      ]
     },
     "execution_count": 12,
     "metadata": {},
     "output_type": "execute_result"
    }
   ],
   "source": [
    "df.replace(' ',np.nan, inplace=True)\n",
    "df.isna().sum() /len(df) *100"
   ]
  },
  {
   "cell_type": "markdown",
   "id": "87eb64e9",
   "metadata": {},
   "source": [
    "Count the missing values"
   ]
  },
  {
   "cell_type": "code",
   "execution_count": 13,
   "id": "2b497a6f",
   "metadata": {},
   "outputs": [
    {
     "data": {
      "text/plain": [
       "BOROUGH                               0\n",
       "NEIGHBORHOOD                          0\n",
       "BUILDING_CLASS_CATEGORY               0\n",
       "TAX_CLASS_AT_PRESENT                738\n",
       "BLOCK                                 0\n",
       "LOT                                   0\n",
       "EASE-MENT                         84548\n",
       "BUILDING_CLASS_AT_PRESENT           738\n",
       "ADDRESS                               0\n",
       "APARTMENT_NUMBER                  65496\n",
       "ZIP_CODE                              0\n",
       "RESIDENTIAL_UNITS                     0\n",
       "COMMERCIAL_UNITS                      0\n",
       "TOTAL_UNITS                           0\n",
       "LAND_SQUARE_FEET                  26252\n",
       "GROSS_SQUARE_FEET                 27612\n",
       "YEAR_BUILT                            0\n",
       "TAX_CLASS_AT_TIME_OF_SALE             0\n",
       "BUILDING_CLASS_AT_TIME_OF_SALE        0\n",
       "SALE_PRICE                        14561\n",
       "SALE_DATE                             0\n",
       "dtype: int64"
      ]
     },
     "execution_count": 13,
     "metadata": {},
     "output_type": "execute_result"
    }
   ],
   "source": [
    "df.isna().sum()"
   ]
  },
  {
   "cell_type": "markdown",
   "id": "4eb8bffb",
   "metadata": {},
   "source": [
    "Drop irrelevant columns"
   ]
  },
  {
   "cell_type": "code",
   "execution_count": 14,
   "id": "2d91a6d7",
   "metadata": {},
   "outputs": [],
   "source": [
    "df = df.drop([\"EASE-MENT\",\"APARTMENT_NUMBER\", \"BLOCK\", \"LOT\", \"ADDRESS\"],axis=1)"
   ]
  },
  {
   "cell_type": "markdown",
   "id": "294dd044",
   "metadata": {},
   "source": [
    "Drop Nan values from TAX_CLASS_AT_PRESENT and BUILDING_CLASS_AT_PRESENT columns"
   ]
  },
  {
   "cell_type": "code",
   "execution_count": 15,
   "id": "85c5728a",
   "metadata": {},
   "outputs": [],
   "source": [
    "df = df.dropna(subset=[\"TAX_CLASS_AT_PRESENT\",\"BUILDING_CLASS_AT_PRESENT\"])"
   ]
  },
  {
   "cell_type": "markdown",
   "id": "a2c808da",
   "metadata": {},
   "source": [
    "Change Nan values with 0 in LAND_SQUARE_FEET, GROSS_SQUARE_FEET, and SALE_PRICE columns"
   ]
  },
  {
   "cell_type": "code",
   "execution_count": 16,
   "id": "59fabc88",
   "metadata": {},
   "outputs": [],
   "source": [
    "for i in [\"LAND_SQUARE_FEET\",\"GROSS_SQUARE_FEET\",\"SALE_PRICE\"]:\n",
    "    df[i] = df[i].fillna(0)"
   ]
  },
  {
   "cell_type": "markdown",
   "id": "1fe6ff7b",
   "metadata": {},
   "source": [
    "Take a sale price that is greater than 0"
   ]
  },
  {
   "cell_type": "code",
   "execution_count": 17,
   "id": "2beca303",
   "metadata": {},
   "outputs": [],
   "source": [
    "df = df[df[\"SALE_PRICE\"] != 0]"
   ]
  },
  {
   "cell_type": "code",
   "execution_count": 18,
   "id": "d62db78b",
   "metadata": {},
   "outputs": [
    {
     "data": {
      "text/html": [
       "<div>\n",
       "<style scoped>\n",
       "    .dataframe tbody tr th:only-of-type {\n",
       "        vertical-align: middle;\n",
       "    }\n",
       "\n",
       "    .dataframe tbody tr th {\n",
       "        vertical-align: top;\n",
       "    }\n",
       "\n",
       "    .dataframe thead th {\n",
       "        text-align: right;\n",
       "    }\n",
       "</style>\n",
       "<table border=\"1\" class=\"dataframe\">\n",
       "  <thead>\n",
       "    <tr style=\"text-align: right;\">\n",
       "      <th></th>\n",
       "      <th>BOROUGH</th>\n",
       "      <th>NEIGHBORHOOD</th>\n",
       "      <th>BUILDING_CLASS_CATEGORY</th>\n",
       "      <th>TAX_CLASS_AT_PRESENT</th>\n",
       "      <th>BUILDING_CLASS_AT_PRESENT</th>\n",
       "      <th>ZIP_CODE</th>\n",
       "      <th>RESIDENTIAL_UNITS</th>\n",
       "      <th>COMMERCIAL_UNITS</th>\n",
       "      <th>TOTAL_UNITS</th>\n",
       "      <th>LAND_SQUARE_FEET</th>\n",
       "      <th>GROSS_SQUARE_FEET</th>\n",
       "      <th>YEAR_BUILT</th>\n",
       "      <th>TAX_CLASS_AT_TIME_OF_SALE</th>\n",
       "      <th>BUILDING_CLASS_AT_TIME_OF_SALE</th>\n",
       "      <th>SALE_PRICE</th>\n",
       "      <th>SALE_DATE</th>\n",
       "    </tr>\n",
       "  </thead>\n",
       "  <tbody>\n",
       "    <tr>\n",
       "      <th>0</th>\n",
       "      <td>Manhattan</td>\n",
       "      <td>ALPHABET CITY</td>\n",
       "      <td>07 RENTALS - WALKUP APARTMENTS</td>\n",
       "      <td>2A</td>\n",
       "      <td>C2</td>\n",
       "      <td>10009</td>\n",
       "      <td>5</td>\n",
       "      <td>0</td>\n",
       "      <td>5</td>\n",
       "      <td>1633.0</td>\n",
       "      <td>6440.0</td>\n",
       "      <td>1900</td>\n",
       "      <td>2</td>\n",
       "      <td>C2</td>\n",
       "      <td>6625000.0</td>\n",
       "      <td>2017-07-19</td>\n",
       "    </tr>\n",
       "    <tr>\n",
       "      <th>3</th>\n",
       "      <td>Manhattan</td>\n",
       "      <td>ALPHABET CITY</td>\n",
       "      <td>07 RENTALS - WALKUP APARTMENTS</td>\n",
       "      <td>2B</td>\n",
       "      <td>C4</td>\n",
       "      <td>10009</td>\n",
       "      <td>10</td>\n",
       "      <td>0</td>\n",
       "      <td>10</td>\n",
       "      <td>2272.0</td>\n",
       "      <td>6794.0</td>\n",
       "      <td>1913</td>\n",
       "      <td>2</td>\n",
       "      <td>C4</td>\n",
       "      <td>3936272.0</td>\n",
       "      <td>2016-09-23</td>\n",
       "    </tr>\n",
       "    <tr>\n",
       "      <th>4</th>\n",
       "      <td>Manhattan</td>\n",
       "      <td>ALPHABET CITY</td>\n",
       "      <td>07 RENTALS - WALKUP APARTMENTS</td>\n",
       "      <td>2A</td>\n",
       "      <td>C2</td>\n",
       "      <td>10009</td>\n",
       "      <td>6</td>\n",
       "      <td>0</td>\n",
       "      <td>6</td>\n",
       "      <td>2369.0</td>\n",
       "      <td>4615.0</td>\n",
       "      <td>1900</td>\n",
       "      <td>2</td>\n",
       "      <td>C2</td>\n",
       "      <td>8000000.0</td>\n",
       "      <td>2016-11-17</td>\n",
       "    </tr>\n",
       "    <tr>\n",
       "      <th>6</th>\n",
       "      <td>Manhattan</td>\n",
       "      <td>ALPHABET CITY</td>\n",
       "      <td>07 RENTALS - WALKUP APARTMENTS</td>\n",
       "      <td>2B</td>\n",
       "      <td>C4</td>\n",
       "      <td>10009</td>\n",
       "      <td>8</td>\n",
       "      <td>0</td>\n",
       "      <td>8</td>\n",
       "      <td>1750.0</td>\n",
       "      <td>4226.0</td>\n",
       "      <td>1920</td>\n",
       "      <td>2</td>\n",
       "      <td>C4</td>\n",
       "      <td>3192840.0</td>\n",
       "      <td>2016-09-23</td>\n",
       "    </tr>\n",
       "    <tr>\n",
       "      <th>9</th>\n",
       "      <td>Manhattan</td>\n",
       "      <td>ALPHABET CITY</td>\n",
       "      <td>08 RENTALS - ELEVATOR APARTMENTS</td>\n",
       "      <td>2</td>\n",
       "      <td>D9</td>\n",
       "      <td>10009</td>\n",
       "      <td>24</td>\n",
       "      <td>0</td>\n",
       "      <td>24</td>\n",
       "      <td>4489.0</td>\n",
       "      <td>18523.0</td>\n",
       "      <td>1920</td>\n",
       "      <td>2</td>\n",
       "      <td>D9</td>\n",
       "      <td>16232000.0</td>\n",
       "      <td>2016-11-07</td>\n",
       "    </tr>\n",
       "    <tr>\n",
       "      <th>...</th>\n",
       "      <td>...</td>\n",
       "      <td>...</td>\n",
       "      <td>...</td>\n",
       "      <td>...</td>\n",
       "      <td>...</td>\n",
       "      <td>...</td>\n",
       "      <td>...</td>\n",
       "      <td>...</td>\n",
       "      <td>...</td>\n",
       "      <td>...</td>\n",
       "      <td>...</td>\n",
       "      <td>...</td>\n",
       "      <td>...</td>\n",
       "      <td>...</td>\n",
       "      <td>...</td>\n",
       "      <td>...</td>\n",
       "    </tr>\n",
       "    <tr>\n",
       "      <th>84543</th>\n",
       "      <td>Staten Island</td>\n",
       "      <td>WOODROW</td>\n",
       "      <td>02 TWO FAMILY DWELLINGS</td>\n",
       "      <td>1</td>\n",
       "      <td>B9</td>\n",
       "      <td>10309</td>\n",
       "      <td>2</td>\n",
       "      <td>0</td>\n",
       "      <td>2</td>\n",
       "      <td>2400.0</td>\n",
       "      <td>2575.0</td>\n",
       "      <td>1998</td>\n",
       "      <td>1</td>\n",
       "      <td>B9</td>\n",
       "      <td>450000.0</td>\n",
       "      <td>2016-11-28</td>\n",
       "    </tr>\n",
       "    <tr>\n",
       "      <th>84544</th>\n",
       "      <td>Staten Island</td>\n",
       "      <td>WOODROW</td>\n",
       "      <td>02 TWO FAMILY DWELLINGS</td>\n",
       "      <td>1</td>\n",
       "      <td>B9</td>\n",
       "      <td>10309</td>\n",
       "      <td>2</td>\n",
       "      <td>0</td>\n",
       "      <td>2</td>\n",
       "      <td>2498.0</td>\n",
       "      <td>2377.0</td>\n",
       "      <td>1998</td>\n",
       "      <td>1</td>\n",
       "      <td>B9</td>\n",
       "      <td>550000.0</td>\n",
       "      <td>2017-04-21</td>\n",
       "    </tr>\n",
       "    <tr>\n",
       "      <th>84545</th>\n",
       "      <td>Staten Island</td>\n",
       "      <td>WOODROW</td>\n",
       "      <td>02 TWO FAMILY DWELLINGS</td>\n",
       "      <td>1</td>\n",
       "      <td>B2</td>\n",
       "      <td>10309</td>\n",
       "      <td>2</td>\n",
       "      <td>0</td>\n",
       "      <td>2</td>\n",
       "      <td>4000.0</td>\n",
       "      <td>1496.0</td>\n",
       "      <td>1925</td>\n",
       "      <td>1</td>\n",
       "      <td>B2</td>\n",
       "      <td>460000.0</td>\n",
       "      <td>2017-07-05</td>\n",
       "    </tr>\n",
       "    <tr>\n",
       "      <th>84546</th>\n",
       "      <td>Staten Island</td>\n",
       "      <td>WOODROW</td>\n",
       "      <td>22 STORE BUILDINGS</td>\n",
       "      <td>4</td>\n",
       "      <td>K6</td>\n",
       "      <td>10309</td>\n",
       "      <td>0</td>\n",
       "      <td>7</td>\n",
       "      <td>7</td>\n",
       "      <td>208033.0</td>\n",
       "      <td>64117.0</td>\n",
       "      <td>2001</td>\n",
       "      <td>4</td>\n",
       "      <td>K6</td>\n",
       "      <td>11693337.0</td>\n",
       "      <td>2016-12-21</td>\n",
       "    </tr>\n",
       "    <tr>\n",
       "      <th>84547</th>\n",
       "      <td>Staten Island</td>\n",
       "      <td>WOODROW</td>\n",
       "      <td>35 INDOOR PUBLIC AND CULTURAL FACILITIES</td>\n",
       "      <td>4</td>\n",
       "      <td>P9</td>\n",
       "      <td>10309</td>\n",
       "      <td>0</td>\n",
       "      <td>1</td>\n",
       "      <td>1</td>\n",
       "      <td>10796.0</td>\n",
       "      <td>2400.0</td>\n",
       "      <td>2006</td>\n",
       "      <td>4</td>\n",
       "      <td>P9</td>\n",
       "      <td>69300.0</td>\n",
       "      <td>2016-10-27</td>\n",
       "    </tr>\n",
       "  </tbody>\n",
       "</table>\n",
       "<p>59166 rows × 16 columns</p>\n",
       "</div>"
      ],
      "text/plain": [
       "             BOROUGH   NEIGHBORHOOD  \\\n",
       "0          Manhattan  ALPHABET CITY   \n",
       "3          Manhattan  ALPHABET CITY   \n",
       "4          Manhattan  ALPHABET CITY   \n",
       "6          Manhattan  ALPHABET CITY   \n",
       "9          Manhattan  ALPHABET CITY   \n",
       "...              ...            ...   \n",
       "84543  Staten Island        WOODROW   \n",
       "84544  Staten Island        WOODROW   \n",
       "84545  Staten Island        WOODROW   \n",
       "84546  Staten Island        WOODROW   \n",
       "84547  Staten Island        WOODROW   \n",
       "\n",
       "                           BUILDING_CLASS_CATEGORY TAX_CLASS_AT_PRESENT  \\\n",
       "0      07 RENTALS - WALKUP APARTMENTS                                2A   \n",
       "3      07 RENTALS - WALKUP APARTMENTS                                2B   \n",
       "4      07 RENTALS - WALKUP APARTMENTS                                2A   \n",
       "6      07 RENTALS - WALKUP APARTMENTS                                2B   \n",
       "9      08 RENTALS - ELEVATOR APARTMENTS                               2   \n",
       "...                                            ...                  ...   \n",
       "84543  02 TWO FAMILY DWELLINGS                                        1   \n",
       "84544  02 TWO FAMILY DWELLINGS                                        1   \n",
       "84545  02 TWO FAMILY DWELLINGS                                        1   \n",
       "84546  22 STORE BUILDINGS                                             4   \n",
       "84547  35 INDOOR PUBLIC AND CULTURAL FACILITIES                       4   \n",
       "\n",
       "      BUILDING_CLASS_AT_PRESENT ZIP_CODE  RESIDENTIAL_UNITS  COMMERCIAL_UNITS  \\\n",
       "0                            C2    10009                  5                 0   \n",
       "3                            C4    10009                 10                 0   \n",
       "4                            C2    10009                  6                 0   \n",
       "6                            C4    10009                  8                 0   \n",
       "9                            D9    10009                 24                 0   \n",
       "...                         ...      ...                ...               ...   \n",
       "84543                        B9    10309                  2                 0   \n",
       "84544                        B9    10309                  2                 0   \n",
       "84545                        B2    10309                  2                 0   \n",
       "84546                        K6    10309                  0                 7   \n",
       "84547                        P9    10309                  0                 1   \n",
       "\n",
       "       TOTAL_UNITS  LAND_SQUARE_FEET  GROSS_SQUARE_FEET YEAR_BUILT  \\\n",
       "0                5            1633.0             6440.0       1900   \n",
       "3               10            2272.0             6794.0       1913   \n",
       "4                6            2369.0             4615.0       1900   \n",
       "6                8            1750.0             4226.0       1920   \n",
       "9               24            4489.0            18523.0       1920   \n",
       "...            ...               ...                ...        ...   \n",
       "84543            2            2400.0             2575.0       1998   \n",
       "84544            2            2498.0             2377.0       1998   \n",
       "84545            2            4000.0             1496.0       1925   \n",
       "84546            7          208033.0            64117.0       2001   \n",
       "84547            1           10796.0             2400.0       2006   \n",
       "\n",
       "      TAX_CLASS_AT_TIME_OF_SALE BUILDING_CLASS_AT_TIME_OF_SALE  SALE_PRICE  \\\n",
       "0                             2                             C2   6625000.0   \n",
       "3                             2                             C4   3936272.0   \n",
       "4                             2                             C2   8000000.0   \n",
       "6                             2                             C4   3192840.0   \n",
       "9                             2                             D9  16232000.0   \n",
       "...                         ...                            ...         ...   \n",
       "84543                         1                             B9    450000.0   \n",
       "84544                         1                             B9    550000.0   \n",
       "84545                         1                             B2    460000.0   \n",
       "84546                         4                             K6  11693337.0   \n",
       "84547                         4                             P9     69300.0   \n",
       "\n",
       "       SALE_DATE  \n",
       "0     2017-07-19  \n",
       "3     2016-09-23  \n",
       "4     2016-11-17  \n",
       "6     2016-09-23  \n",
       "9     2016-11-07  \n",
       "...          ...  \n",
       "84543 2016-11-28  \n",
       "84544 2017-04-21  \n",
       "84545 2017-07-05  \n",
       "84546 2016-12-21  \n",
       "84547 2016-10-27  \n",
       "\n",
       "[59166 rows x 16 columns]"
      ]
     },
     "execution_count": 18,
     "metadata": {},
     "output_type": "execute_result"
    }
   ],
   "source": [
    "df"
   ]
  },
  {
   "cell_type": "markdown",
   "id": "26617b04",
   "metadata": {},
   "source": [
    "Group all the sub-classess into 4 main classes"
   ]
  },
  {
   "cell_type": "code",
   "execution_count": 19,
   "id": "ac29d4a7",
   "metadata": {},
   "outputs": [],
   "source": [
    "df[\"BUILDING_CLASS_AT_PRESENT\"] = df[\"BUILDING_CLASS_AT_PRESENT\"].str[0]"
   ]
  },
  {
   "cell_type": "code",
   "execution_count": 20,
   "id": "6516c5d8",
   "metadata": {},
   "outputs": [
    {
     "data": {
      "text/html": [
       "<div>\n",
       "<style scoped>\n",
       "    .dataframe tbody tr th:only-of-type {\n",
       "        vertical-align: middle;\n",
       "    }\n",
       "\n",
       "    .dataframe tbody tr th {\n",
       "        vertical-align: top;\n",
       "    }\n",
       "\n",
       "    .dataframe thead th {\n",
       "        text-align: right;\n",
       "    }\n",
       "</style>\n",
       "<table border=\"1\" class=\"dataframe\">\n",
       "  <thead>\n",
       "    <tr style=\"text-align: right;\">\n",
       "      <th></th>\n",
       "      <th>BOROUGH</th>\n",
       "      <th>NEIGHBORHOOD</th>\n",
       "      <th>BUILDING_CLASS_CATEGORY</th>\n",
       "      <th>TAX_CLASS_AT_PRESENT</th>\n",
       "      <th>BUILDING_CLASS_AT_PRESENT</th>\n",
       "      <th>ZIP_CODE</th>\n",
       "      <th>RESIDENTIAL_UNITS</th>\n",
       "      <th>COMMERCIAL_UNITS</th>\n",
       "      <th>TOTAL_UNITS</th>\n",
       "      <th>LAND_SQUARE_FEET</th>\n",
       "      <th>GROSS_SQUARE_FEET</th>\n",
       "      <th>YEAR_BUILT</th>\n",
       "      <th>TAX_CLASS_AT_TIME_OF_SALE</th>\n",
       "      <th>BUILDING_CLASS_AT_TIME_OF_SALE</th>\n",
       "      <th>SALE_PRICE</th>\n",
       "      <th>SALE_DATE</th>\n",
       "    </tr>\n",
       "  </thead>\n",
       "  <tbody>\n",
       "    <tr>\n",
       "      <th>0</th>\n",
       "      <td>Manhattan</td>\n",
       "      <td>ALPHABET CITY</td>\n",
       "      <td>07 RENTALS - WALKUP APARTMENTS</td>\n",
       "      <td>2A</td>\n",
       "      <td>C</td>\n",
       "      <td>10009</td>\n",
       "      <td>5</td>\n",
       "      <td>0</td>\n",
       "      <td>5</td>\n",
       "      <td>1633.0</td>\n",
       "      <td>6440.0</td>\n",
       "      <td>1900</td>\n",
       "      <td>2</td>\n",
       "      <td>C2</td>\n",
       "      <td>6625000.0</td>\n",
       "      <td>2017-07-19</td>\n",
       "    </tr>\n",
       "    <tr>\n",
       "      <th>3</th>\n",
       "      <td>Manhattan</td>\n",
       "      <td>ALPHABET CITY</td>\n",
       "      <td>07 RENTALS - WALKUP APARTMENTS</td>\n",
       "      <td>2B</td>\n",
       "      <td>C</td>\n",
       "      <td>10009</td>\n",
       "      <td>10</td>\n",
       "      <td>0</td>\n",
       "      <td>10</td>\n",
       "      <td>2272.0</td>\n",
       "      <td>6794.0</td>\n",
       "      <td>1913</td>\n",
       "      <td>2</td>\n",
       "      <td>C4</td>\n",
       "      <td>3936272.0</td>\n",
       "      <td>2016-09-23</td>\n",
       "    </tr>\n",
       "    <tr>\n",
       "      <th>4</th>\n",
       "      <td>Manhattan</td>\n",
       "      <td>ALPHABET CITY</td>\n",
       "      <td>07 RENTALS - WALKUP APARTMENTS</td>\n",
       "      <td>2A</td>\n",
       "      <td>C</td>\n",
       "      <td>10009</td>\n",
       "      <td>6</td>\n",
       "      <td>0</td>\n",
       "      <td>6</td>\n",
       "      <td>2369.0</td>\n",
       "      <td>4615.0</td>\n",
       "      <td>1900</td>\n",
       "      <td>2</td>\n",
       "      <td>C2</td>\n",
       "      <td>8000000.0</td>\n",
       "      <td>2016-11-17</td>\n",
       "    </tr>\n",
       "    <tr>\n",
       "      <th>6</th>\n",
       "      <td>Manhattan</td>\n",
       "      <td>ALPHABET CITY</td>\n",
       "      <td>07 RENTALS - WALKUP APARTMENTS</td>\n",
       "      <td>2B</td>\n",
       "      <td>C</td>\n",
       "      <td>10009</td>\n",
       "      <td>8</td>\n",
       "      <td>0</td>\n",
       "      <td>8</td>\n",
       "      <td>1750.0</td>\n",
       "      <td>4226.0</td>\n",
       "      <td>1920</td>\n",
       "      <td>2</td>\n",
       "      <td>C4</td>\n",
       "      <td>3192840.0</td>\n",
       "      <td>2016-09-23</td>\n",
       "    </tr>\n",
       "    <tr>\n",
       "      <th>9</th>\n",
       "      <td>Manhattan</td>\n",
       "      <td>ALPHABET CITY</td>\n",
       "      <td>08 RENTALS - ELEVATOR APARTMENTS</td>\n",
       "      <td>2</td>\n",
       "      <td>D</td>\n",
       "      <td>10009</td>\n",
       "      <td>24</td>\n",
       "      <td>0</td>\n",
       "      <td>24</td>\n",
       "      <td>4489.0</td>\n",
       "      <td>18523.0</td>\n",
       "      <td>1920</td>\n",
       "      <td>2</td>\n",
       "      <td>D9</td>\n",
       "      <td>16232000.0</td>\n",
       "      <td>2016-11-07</td>\n",
       "    </tr>\n",
       "  </tbody>\n",
       "</table>\n",
       "</div>"
      ],
      "text/plain": [
       "     BOROUGH   NEIGHBORHOOD                      BUILDING_CLASS_CATEGORY  \\\n",
       "0  Manhattan  ALPHABET CITY  07 RENTALS - WALKUP APARTMENTS                \n",
       "3  Manhattan  ALPHABET CITY  07 RENTALS - WALKUP APARTMENTS                \n",
       "4  Manhattan  ALPHABET CITY  07 RENTALS - WALKUP APARTMENTS                \n",
       "6  Manhattan  ALPHABET CITY  07 RENTALS - WALKUP APARTMENTS                \n",
       "9  Manhattan  ALPHABET CITY  08 RENTALS - ELEVATOR APARTMENTS              \n",
       "\n",
       "  TAX_CLASS_AT_PRESENT BUILDING_CLASS_AT_PRESENT ZIP_CODE  RESIDENTIAL_UNITS  \\\n",
       "0                   2A                         C    10009                  5   \n",
       "3                   2B                         C    10009                 10   \n",
       "4                   2A                         C    10009                  6   \n",
       "6                   2B                         C    10009                  8   \n",
       "9                    2                         D    10009                 24   \n",
       "\n",
       "   COMMERCIAL_UNITS  TOTAL_UNITS  LAND_SQUARE_FEET  GROSS_SQUARE_FEET  \\\n",
       "0                 0            5            1633.0             6440.0   \n",
       "3                 0           10            2272.0             6794.0   \n",
       "4                 0            6            2369.0             4615.0   \n",
       "6                 0            8            1750.0             4226.0   \n",
       "9                 0           24            4489.0            18523.0   \n",
       "\n",
       "  YEAR_BUILT TAX_CLASS_AT_TIME_OF_SALE BUILDING_CLASS_AT_TIME_OF_SALE  \\\n",
       "0       1900                         2                             C2   \n",
       "3       1913                         2                             C4   \n",
       "4       1900                         2                             C2   \n",
       "6       1920                         2                             C4   \n",
       "9       1920                         2                             D9   \n",
       "\n",
       "   SALE_PRICE  SALE_DATE  \n",
       "0   6625000.0 2017-07-19  \n",
       "3   3936272.0 2016-09-23  \n",
       "4   8000000.0 2016-11-17  \n",
       "6   3192840.0 2016-09-23  \n",
       "9  16232000.0 2016-11-07  "
      ]
     },
     "execution_count": 20,
     "metadata": {},
     "output_type": "execute_result"
    }
   ],
   "source": [
    "df.head()"
   ]
  },
  {
   "cell_type": "markdown",
   "id": "165d4dac",
   "metadata": {},
   "source": [
    "Take the years from SALE_DATE column and assign it to a new column called YEAR"
   ]
  },
  {
   "cell_type": "code",
   "execution_count": 21,
   "id": "ce8b001d",
   "metadata": {},
   "outputs": [],
   "source": [
    "df[\"YEAR\"] = [i.year for i in df[\"SALE_DATE\"]]"
   ]
  },
  {
   "cell_type": "markdown",
   "id": "2577446e",
   "metadata": {},
   "source": [
    "Check if there are any outliers using box plot"
   ]
  },
  {
   "cell_type": "code",
   "execution_count": 22,
   "id": "320a92fc",
   "metadata": {},
   "outputs": [
    {
     "data": {
      "text/plain": [
       "<AxesSubplot:xlabel='SALE_PRICE'>"
      ]
     },
     "execution_count": 22,
     "metadata": {},
     "output_type": "execute_result"
    },
    {
     "data": {
      "image/png": "[encoded data removed]",
      "text/plain": [
       "<Figure size 432x288 with 1 Axes>"
      ]
     },
     "metadata": {
      "needs_background": "light"
     },
     "output_type": "display_data"
    }
   ],
   "source": [
    "sns.boxplot(data=df,x=\"SALE_PRICE\")"
   ]
  },
  {
   "cell_type": "markdown",
   "id": "bb6650cc",
   "metadata": {},
   "source": [
    "Remove outliers with IQR method"
   ]
  },
  {
   "cell_type": "code",
   "execution_count": 23,
   "id": "8197069f",
   "metadata": {},
   "outputs": [],
   "source": [
    "sale_price_q1 = df[\"SALE_PRICE\"].describe().loc[\"25%\"]\n",
    "sale_price_q3 = df[\"SALE_PRICE\"].describe().loc[\"75%\"]\n",
    "sale_price_iqr = sale_price_q3 - sale_price_q1\n",
    "\n",
    "sale_price_lower_limit = sale_price_q1 - (1.5 * sale_price_iqr)\n",
    "sale_price_upper_limit = sale_price_q3 + (1.5 * sale_price_iqr)"
   ]
  },
  {
   "cell_type": "code",
   "execution_count": 24,
   "id": "80fa012b",
   "metadata": {},
   "outputs": [
    {
     "data": {
      "text/html": [
       "<div>\n",
       "<style scoped>\n",
       "    .dataframe tbody tr th:only-of-type {\n",
       "        vertical-align: middle;\n",
       "    }\n",
       "\n",
       "    .dataframe tbody tr th {\n",
       "        vertical-align: top;\n",
       "    }\n",
       "\n",
       "    .dataframe thead th {\n",
       "        text-align: right;\n",
       "    }\n",
       "</style>\n",
       "<table border=\"1\" class=\"dataframe\">\n",
       "  <thead>\n",
       "    <tr style=\"text-align: right;\">\n",
       "      <th></th>\n",
       "      <th>BOROUGH</th>\n",
       "      <th>NEIGHBORHOOD</th>\n",
       "      <th>BUILDING_CLASS_CATEGORY</th>\n",
       "      <th>TAX_CLASS_AT_PRESENT</th>\n",
       "      <th>BUILDING_CLASS_AT_PRESENT</th>\n",
       "      <th>ZIP_CODE</th>\n",
       "      <th>RESIDENTIAL_UNITS</th>\n",
       "      <th>COMMERCIAL_UNITS</th>\n",
       "      <th>TOTAL_UNITS</th>\n",
       "      <th>LAND_SQUARE_FEET</th>\n",
       "      <th>GROSS_SQUARE_FEET</th>\n",
       "      <th>YEAR_BUILT</th>\n",
       "      <th>TAX_CLASS_AT_TIME_OF_SALE</th>\n",
       "      <th>BUILDING_CLASS_AT_TIME_OF_SALE</th>\n",
       "      <th>SALE_PRICE</th>\n",
       "      <th>SALE_DATE</th>\n",
       "      <th>YEAR</th>\n",
       "    </tr>\n",
       "  </thead>\n",
       "  <tbody>\n",
       "    <tr>\n",
       "      <th>12</th>\n",
       "      <td>Manhattan</td>\n",
       "      <td>ALPHABET CITY</td>\n",
       "      <td>09 COOPS - WALKUP APARTMENTS</td>\n",
       "      <td>2</td>\n",
       "      <td>C</td>\n",
       "      <td>10009</td>\n",
       "      <td>0</td>\n",
       "      <td>0</td>\n",
       "      <td>0</td>\n",
       "      <td>0.0</td>\n",
       "      <td>0.0</td>\n",
       "      <td>1920</td>\n",
       "      <td>2</td>\n",
       "      <td>C6</td>\n",
       "      <td>1.0</td>\n",
       "      <td>2016-09-06</td>\n",
       "      <td>2016</td>\n",
       "    </tr>\n",
       "    <tr>\n",
       "      <th>13</th>\n",
       "      <td>Manhattan</td>\n",
       "      <td>ALPHABET CITY</td>\n",
       "      <td>09 COOPS - WALKUP APARTMENTS</td>\n",
       "      <td>2</td>\n",
       "      <td>C</td>\n",
       "      <td>10009</td>\n",
       "      <td>0</td>\n",
       "      <td>0</td>\n",
       "      <td>0</td>\n",
       "      <td>0.0</td>\n",
       "      <td>0.0</td>\n",
       "      <td>1920</td>\n",
       "      <td>2</td>\n",
       "      <td>C6</td>\n",
       "      <td>499000.0</td>\n",
       "      <td>2017-03-10</td>\n",
       "      <td>2017</td>\n",
       "    </tr>\n",
       "    <tr>\n",
       "      <th>14</th>\n",
       "      <td>Manhattan</td>\n",
       "      <td>ALPHABET CITY</td>\n",
       "      <td>09 COOPS - WALKUP APARTMENTS</td>\n",
       "      <td>2</td>\n",
       "      <td>C</td>\n",
       "      <td>10009</td>\n",
       "      <td>0</td>\n",
       "      <td>0</td>\n",
       "      <td>0</td>\n",
       "      <td>0.0</td>\n",
       "      <td>0.0</td>\n",
       "      <td>1920</td>\n",
       "      <td>2</td>\n",
       "      <td>C6</td>\n",
       "      <td>10.0</td>\n",
       "      <td>2017-04-28</td>\n",
       "      <td>2017</td>\n",
       "    </tr>\n",
       "    <tr>\n",
       "      <th>15</th>\n",
       "      <td>Manhattan</td>\n",
       "      <td>ALPHABET CITY</td>\n",
       "      <td>09 COOPS - WALKUP APARTMENTS</td>\n",
       "      <td>2</td>\n",
       "      <td>C</td>\n",
       "      <td>10009</td>\n",
       "      <td>0</td>\n",
       "      <td>0</td>\n",
       "      <td>0</td>\n",
       "      <td>0.0</td>\n",
       "      <td>0.0</td>\n",
       "      <td>1920</td>\n",
       "      <td>2</td>\n",
       "      <td>C6</td>\n",
       "      <td>529500.0</td>\n",
       "      <td>2017-06-09</td>\n",
       "      <td>2017</td>\n",
       "    </tr>\n",
       "    <tr>\n",
       "      <th>16</th>\n",
       "      <td>Manhattan</td>\n",
       "      <td>ALPHABET CITY</td>\n",
       "      <td>09 COOPS - WALKUP APARTMENTS</td>\n",
       "      <td>2</td>\n",
       "      <td>C</td>\n",
       "      <td>10009</td>\n",
       "      <td>0</td>\n",
       "      <td>0</td>\n",
       "      <td>0</td>\n",
       "      <td>0.0</td>\n",
       "      <td>0.0</td>\n",
       "      <td>1920</td>\n",
       "      <td>2</td>\n",
       "      <td>C6</td>\n",
       "      <td>423000.0</td>\n",
       "      <td>2017-07-14</td>\n",
       "      <td>2017</td>\n",
       "    </tr>\n",
       "  </tbody>\n",
       "</table>\n",
       "</div>"
      ],
      "text/plain": [
       "      BOROUGH   NEIGHBORHOOD                      BUILDING_CLASS_CATEGORY  \\\n",
       "12  Manhattan  ALPHABET CITY  09 COOPS - WALKUP APARTMENTS                  \n",
       "13  Manhattan  ALPHABET CITY  09 COOPS - WALKUP APARTMENTS                  \n",
       "14  Manhattan  ALPHABET CITY  09 COOPS - WALKUP APARTMENTS                  \n",
       "15  Manhattan  ALPHABET CITY  09 COOPS - WALKUP APARTMENTS                  \n",
       "16  Manhattan  ALPHABET CITY  09 COOPS - WALKUP APARTMENTS                  \n",
       "\n",
       "   TAX_CLASS_AT_PRESENT BUILDING_CLASS_AT_PRESENT ZIP_CODE  RESIDENTIAL_UNITS  \\\n",
       "12                    2                         C    10009                  0   \n",
       "13                    2                         C    10009                  0   \n",
       "14                    2                         C    10009                  0   \n",
       "15                    2                         C    10009                  0   \n",
       "16                    2                         C    10009                  0   \n",
       "\n",
       "    COMMERCIAL_UNITS  TOTAL_UNITS  LAND_SQUARE_FEET  GROSS_SQUARE_FEET  \\\n",
       "12                 0            0               0.0                0.0   \n",
       "13                 0            0               0.0                0.0   \n",
       "14                 0            0               0.0                0.0   \n",
       "15                 0            0               0.0                0.0   \n",
       "16                 0            0               0.0                0.0   \n",
       "\n",
       "   YEAR_BUILT TAX_CLASS_AT_TIME_OF_SALE BUILDING_CLASS_AT_TIME_OF_SALE  \\\n",
       "12       1920                         2                             C6   \n",
       "13       1920                         2                             C6   \n",
       "14       1920                         2                             C6   \n",
       "15       1920                         2                             C6   \n",
       "16       1920                         2                             C6   \n",
       "\n",
       "    SALE_PRICE  SALE_DATE  YEAR  \n",
       "12         1.0 2016-09-06  2016  \n",
       "13    499000.0 2017-03-10  2017  \n",
       "14        10.0 2017-04-28  2017  \n",
       "15    529500.0 2017-06-09  2017  \n",
       "16    423000.0 2017-07-14  2017  "
      ]
     },
     "execution_count": 24,
     "metadata": {},
     "output_type": "execute_result"
    }
   ],
   "source": [
    "outliers_removed = df[(df[\"SALE_PRICE\"] >= sale_price_lower_limit) & (df[\"SALE_PRICE\"] <= sale_price_upper_limit)]\n",
    "outliers_removed.head()"
   ]
  },
  {
   "cell_type": "code",
   "execution_count": 25,
   "id": "3b898ce7",
   "metadata": {},
   "outputs": [
    {
     "data": {
      "text/plain": [
       "<AxesSubplot:xlabel='SALE_PRICE'>"
      ]
     },
     "execution_count": 25,
     "metadata": {},
     "output_type": "execute_result"
    },
    {
     "data": {
      "image/png": "[encoded data removed]",
      "text/plain": [
       "<Figure size 2000x800 with 1 Axes>"
      ]
     },
     "metadata": {
      "needs_background": "light"
     },
     "output_type": "display_data"
    }
   ],
   "source": [
    "plt.figure(figsize=(10,4),dpi=200)\n",
    "sns.boxplot(data=outliers_removed,x=\"SALE_PRICE\", color=\"pink\")"
   ]
  },
  {
   "cell_type": "markdown",
   "id": "3823355a",
   "metadata": {},
   "source": [
    "Because there's still a lot of outliers, repeat the step above as much as needed"
   ]
  },
  {
   "cell_type": "code",
   "execution_count": 26,
   "id": "588f292d",
   "metadata": {},
   "outputs": [],
   "source": [
    "n = 1\n",
    "limit = 2\n",
    "\n",
    "while n <= limit:\n",
    "    sale_price_q1 = outliers_removed[\"SALE_PRICE\"].describe().loc[\"25%\"]\n",
    "    sale_price_q3 = outliers_removed[\"SALE_PRICE\"].describe().loc[\"75%\"]\n",
    "    sale_price_iqr = sale_price_q3 - sale_price_q1\n",
    "\n",
    "    sale_price_lower_limit = sale_price_q1 - (1.5 * sale_price_iqr)\n",
    "    sale_price_upper_limit = sale_price_q3 + (1.5 * sale_price_iqr)\n",
    "\n",
    "    outliers_removed = outliers_removed[(outliers_removed[\"SALE_PRICE\"] >= sale_price_lower_limit) & (outliers_removed[\"SALE_PRICE\"] <= sale_price_upper_limit)]\n",
    "    \n",
    "    n += 1"
   ]
  },
  {
   "cell_type": "code",
   "execution_count": 27,
   "id": "ba740ddd",
   "metadata": {},
   "outputs": [
    {
     "data": {
      "text/plain": [
       "<AxesSubplot:xlabel='SALE_PRICE'>"
      ]
     },
     "execution_count": 27,
     "metadata": {},
     "output_type": "execute_result"
    },
    {
     "data": {
      "image/png": "[encoded data removed]",
      "text/plain": [
       "<Figure size 2000x800 with 1 Axes>"
      ]
     },
     "metadata": {
      "needs_background": "light"
     },
     "output_type": "display_data"
    }
   ],
   "source": [
    "plt.figure(figsize=(10,4),dpi=200)\n",
    "sns.boxplot(data=outliers_removed,x=\"SALE_PRICE\", color=\"pink\")"
   ]
  },
  {
   "cell_type": "markdown",
   "id": "16d8fd6f",
   "metadata": {},
   "source": [
    "# Measures of Central Tendency"
   ]
  },
  {
   "cell_type": "markdown",
   "id": "af34119d",
   "metadata": {},
   "source": [
    "Find measures of central tendency:\n",
    "- Mean \n",
    "- Median \n",
    "- Mode \n",
    "- Range \n",
    "- Variance\n",
    "- Standard Deviation"
   ]
  },
  {
   "cell_type": "code",
   "execution_count": 28,
   "id": "7b2b1420",
   "metadata": {},
   "outputs": [
    {
     "data": {
      "text/html": [
       "<div>\n",
       "<style scoped>\n",
       "    .dataframe tbody tr th:only-of-type {\n",
       "        vertical-align: middle;\n",
       "    }\n",
       "\n",
       "    .dataframe tbody tr th {\n",
       "        vertical-align: top;\n",
       "    }\n",
       "\n",
       "    .dataframe thead th {\n",
       "        text-align: right;\n",
       "    }\n",
       "</style>\n",
       "<table border=\"1\" class=\"dataframe\">\n",
       "  <thead>\n",
       "    <tr style=\"text-align: right;\">\n",
       "      <th></th>\n",
       "      <th>BOROUGH</th>\n",
       "      <th>BUILDING_CLASS_AT_PRESENT</th>\n",
       "      <th>YEAR</th>\n",
       "      <th>MEAN</th>\n",
       "      <th>MEDIAN</th>\n",
       "      <th>MODE</th>\n",
       "      <th>RANGE</th>\n",
       "      <th>VARIANCE</th>\n",
       "      <th>STANDARD_DEVIATION</th>\n",
       "    </tr>\n",
       "  </thead>\n",
       "  <tbody>\n",
       "    <tr>\n",
       "      <th>0</th>\n",
       "      <td>Manhattan</td>\n",
       "      <td>A</td>\n",
       "      <td>2016</td>\n",
       "      <td>1.001448e+06</td>\n",
       "      <td>1000000.0</td>\n",
       "      <td>1375000.0</td>\n",
       "      <td>1067758.0</td>\n",
       "      <td>1.909133e+11</td>\n",
       "      <td>436936.253145</td>\n",
       "    </tr>\n",
       "    <tr>\n",
       "      <th>1</th>\n",
       "      <td>Manhattan</td>\n",
       "      <td>A</td>\n",
       "      <td>2017</td>\n",
       "      <td>3.021925e+05</td>\n",
       "      <td>36255.0</td>\n",
       "      <td>10.0</td>\n",
       "      <td>1509990.0</td>\n",
       "      <td>2.854313e+11</td>\n",
       "      <td>534257.668432</td>\n",
       "    </tr>\n",
       "    <tr>\n",
       "      <th>2</th>\n",
       "      <td>Manhattan</td>\n",
       "      <td>B</td>\n",
       "      <td>2016</td>\n",
       "      <td>1.204500e+06</td>\n",
       "      <td>1310000.0</td>\n",
       "      <td>1310000.0</td>\n",
       "      <td>1050000.0</td>\n",
       "      <td>1.811638e+11</td>\n",
       "      <td>425633.351607</td>\n",
       "    </tr>\n",
       "    <tr>\n",
       "      <th>3</th>\n",
       "      <td>Manhattan</td>\n",
       "      <td>B</td>\n",
       "      <td>2017</td>\n",
       "      <td>7.530519e+05</td>\n",
       "      <td>850000.0</td>\n",
       "      <td>1386200.0</td>\n",
       "      <td>1549990.0</td>\n",
       "      <td>2.909754e+11</td>\n",
       "      <td>539421.326131</td>\n",
       "    </tr>\n",
       "    <tr>\n",
       "      <th>4</th>\n",
       "      <td>Manhattan</td>\n",
       "      <td>C</td>\n",
       "      <td>2016</td>\n",
       "      <td>5.476793e+05</td>\n",
       "      <td>473000.0</td>\n",
       "      <td>10.0</td>\n",
       "      <td>1524999.0</td>\n",
       "      <td>1.349916e+11</td>\n",
       "      <td>367412.020412</td>\n",
       "    </tr>\n",
       "    <tr>\n",
       "      <th>...</th>\n",
       "      <td>...</td>\n",
       "      <td>...</td>\n",
       "      <td>...</td>\n",
       "      <td>...</td>\n",
       "      <td>...</td>\n",
       "      <td>...</td>\n",
       "      <td>...</td>\n",
       "      <td>...</td>\n",
       "      <td>...</td>\n",
       "    </tr>\n",
       "    <tr>\n",
       "      <th>219</th>\n",
       "      <td>Staten Island</td>\n",
       "      <td>S</td>\n",
       "      <td>2017</td>\n",
       "      <td>3.959197e+05</td>\n",
       "      <td>402000.0</td>\n",
       "      <td>25000.0</td>\n",
       "      <td>900000.0</td>\n",
       "      <td>5.248968e+10</td>\n",
       "      <td>229106.270267</td>\n",
       "    </tr>\n",
       "    <tr>\n",
       "      <th>222</th>\n",
       "      <td>Staten Island</td>\n",
       "      <td>V</td>\n",
       "      <td>2016</td>\n",
       "      <td>3.577857e+05</td>\n",
       "      <td>280000.0</td>\n",
       "      <td>650000.0</td>\n",
       "      <td>1265000.0</td>\n",
       "      <td>1.079070e+11</td>\n",
       "      <td>328492.016367</td>\n",
       "    </tr>\n",
       "    <tr>\n",
       "      <th>223</th>\n",
       "      <td>Staten Island</td>\n",
       "      <td>V</td>\n",
       "      <td>2017</td>\n",
       "      <td>3.324611e+05</td>\n",
       "      <td>295292.0</td>\n",
       "      <td>350000.0</td>\n",
       "      <td>1199990.0</td>\n",
       "      <td>7.792322e+10</td>\n",
       "      <td>279147.313163</td>\n",
       "    </tr>\n",
       "    <tr>\n",
       "      <th>224</th>\n",
       "      <td>Staten Island</td>\n",
       "      <td>W</td>\n",
       "      <td>2016</td>\n",
       "      <td>1.000000e+00</td>\n",
       "      <td>1.0</td>\n",
       "      <td>1.0</td>\n",
       "      <td>0.0</td>\n",
       "      <td>0.000000e+00</td>\n",
       "      <td>0.000000</td>\n",
       "    </tr>\n",
       "    <tr>\n",
       "      <th>229</th>\n",
       "      <td>Staten Island</td>\n",
       "      <td>Z</td>\n",
       "      <td>2017</td>\n",
       "      <td>3.265000e+05</td>\n",
       "      <td>326500.0</td>\n",
       "      <td>363000.0</td>\n",
       "      <td>73000.0</td>\n",
       "      <td>2.664500e+09</td>\n",
       "      <td>51618.795027</td>\n",
       "    </tr>\n",
       "  </tbody>\n",
       "</table>\n",
       "<p>140 rows × 9 columns</p>\n",
       "</div>"
      ],
      "text/plain": [
       "           BOROUGH BUILDING_CLASS_AT_PRESENT  YEAR          MEAN     MEDIAN  \\\n",
       "0        Manhattan                         A  2016  1.001448e+06  1000000.0   \n",
       "1        Manhattan                         A  2017  3.021925e+05    36255.0   \n",
       "2        Manhattan                         B  2016  1.204500e+06  1310000.0   \n",
       "3        Manhattan                         B  2017  7.530519e+05   850000.0   \n",
       "4        Manhattan                         C  2016  5.476793e+05   473000.0   \n",
       "..             ...                       ...   ...           ...        ...   \n",
       "219  Staten Island                         S  2017  3.959197e+05   402000.0   \n",
       "222  Staten Island                         V  2016  3.577857e+05   280000.0   \n",
       "223  Staten Island                         V  2017  3.324611e+05   295292.0   \n",
       "224  Staten Island                         W  2016  1.000000e+00        1.0   \n",
       "229  Staten Island                         Z  2017  3.265000e+05   326500.0   \n",
       "\n",
       "          MODE      RANGE      VARIANCE  STANDARD_DEVIATION  \n",
       "0    1375000.0  1067758.0  1.909133e+11       436936.253145  \n",
       "1         10.0  1509990.0  2.854313e+11       534257.668432  \n",
       "2    1310000.0  1050000.0  1.811638e+11       425633.351607  \n",
       "3    1386200.0  1549990.0  2.909754e+11       539421.326131  \n",
       "4         10.0  1524999.0  1.349916e+11       367412.020412  \n",
       "..         ...        ...           ...                 ...  \n",
       "219    25000.0   900000.0  5.248968e+10       229106.270267  \n",
       "222   650000.0  1265000.0  1.079070e+11       328492.016367  \n",
       "223   350000.0  1199990.0  7.792322e+10       279147.313163  \n",
       "224        1.0        0.0  0.000000e+00            0.000000  \n",
       "229   363000.0    73000.0  2.664500e+09        51618.795027  \n",
       "\n",
       "[140 rows x 9 columns]"
      ]
     },
     "execution_count": 28,
     "metadata": {},
     "output_type": "execute_result"
    }
   ],
   "source": [
    "mct = outliers_removed.groupby([\"BOROUGH\",\"BUILDING_CLASS_AT_PRESENT\",\"YEAR\"]).agg({\"SALE_PRICE\":[np.mean,\n",
    "                                                                                    np.median,\n",
    "                                                                                    statistics.mode,\n",
    "                                                                                   np.ptp,\n",
    "                                                                                   np.var,\n",
    "                                                                                   np.std]})\n",
    "mct = mct.reset_index()\n",
    "mct.columns = mct.columns.droplevel(-1)\n",
    "mct.columns = ['BOROUGH','BUILDING_CLASS_AT_PRESENT','YEAR','MEAN','MEDIAN','MODE','RANGE','VARIANCE','STANDARD_DEVIATION']\n",
    "mct = mct.dropna()\n",
    "mct"
   ]
  },
  {
   "cell_type": "markdown",
   "id": "1a8681a3",
   "metadata": {},
   "source": [
    "Visualize the mean of SALE_PRICE from the BUILDING_CLASS_AT_PRESENT category in every borough"
   ]
  },
  {
   "cell_type": "code",
   "execution_count": 29,
   "id": "255f2b93",
   "metadata": {},
   "outputs": [
    {
     "data": {
      "image/png": "[encoded data removed]",
      "text/plain": [
       "<Figure size 2000x800 with 1 Axes>"
      ]
     },
     "metadata": {},
     "output_type": "display_data"
    },
    {
     "data": {
      "image/png": "[encoded data removed]",
      "text/plain": [
       "<Figure size 2000x800 with 1 Axes>"
      ]
     },
     "metadata": {},
     "output_type": "display_data"
    }
   ],
   "source": [
    "for i in mct[\"YEAR\"].unique():\n",
    "\n",
    "    with sns.axes_style(\"whitegrid\"):\n",
    "        plt.figure(figsize=(10,4),dpi=200)\n",
    "        sns.barplot(data=mct[mct[\"YEAR\"] == i],x=\"BOROUGH\",y=\"MEAN\",hue=\"BUILDING_CLASS_AT_PRESENT\",hue_order=np.sort(mct[\"BUILDING_CLASS_AT_PRESENT\"].unique()))\n",
    "        plt.title(f\"Sale Price Average in {i}\", fontsize=17)\n",
    "        plt.xlabel(\"\")\n",
    "        plt.ylabel(\"Mean\")\n",
    "        plt.legend(bbox_to_anchor=(1.02,0.5),loc=\"center left\",title=\"Classes\",ncol=2)\n",
    "        plt.show()"
   ]
  },
  {
   "cell_type": "markdown",
   "id": "0bdcc38c",
   "metadata": {},
   "source": [
    "# Confidence Intervals of Sample Mean"
   ]
  },
  {
   "cell_type": "markdown",
   "id": "f23cb51e",
   "metadata": {},
   "source": [
    "Sort the 5 highest BOROUGH based on SALE_PRICE mean from the BUILDING_CLASS_AT_PRESENT category in 2017"
   ]
  },
  {
   "cell_type": "code",
   "execution_count": 30,
   "id": "2b7758d2",
   "metadata": {},
   "outputs": [
    {
     "data": {
      "text/html": [
       "<div>\n",
       "<style scoped>\n",
       "    .dataframe tbody tr th:only-of-type {\n",
       "        vertical-align: middle;\n",
       "    }\n",
       "\n",
       "    .dataframe tbody tr th {\n",
       "        vertical-align: top;\n",
       "    }\n",
       "\n",
       "    .dataframe thead th {\n",
       "        text-align: right;\n",
       "    }\n",
       "</style>\n",
       "<table border=\"1\" class=\"dataframe\">\n",
       "  <thead>\n",
       "    <tr style=\"text-align: right;\">\n",
       "      <th></th>\n",
       "      <th>BOROUGH</th>\n",
       "      <th>BUILDING_CLASS_AT_PRESENT</th>\n",
       "      <th>YEAR</th>\n",
       "      <th>MEAN</th>\n",
       "      <th>MEDIAN</th>\n",
       "      <th>MODE</th>\n",
       "      <th>RANGE</th>\n",
       "      <th>VARIANCE</th>\n",
       "      <th>STANDARD_DEVIATION</th>\n",
       "    </tr>\n",
       "  </thead>\n",
       "  <tbody>\n",
       "    <tr>\n",
       "      <th>109</th>\n",
       "      <td>Brooklyn</td>\n",
       "      <td>I</td>\n",
       "      <td>2017</td>\n",
       "      <td>1.070000e+06</td>\n",
       "      <td>1070000.0</td>\n",
       "      <td>975000.0</td>\n",
       "      <td>190000.0</td>\n",
       "      <td>1.805000e+10</td>\n",
       "      <td>134350.288425</td>\n",
       "    </tr>\n",
       "    <tr>\n",
       "      <th>101</th>\n",
       "      <td>Brooklyn</td>\n",
       "      <td>E</td>\n",
       "      <td>2017</td>\n",
       "      <td>1.012385e+06</td>\n",
       "      <td>1050000.0</td>\n",
       "      <td>1000000.0</td>\n",
       "      <td>1524000.0</td>\n",
       "      <td>1.886589e+11</td>\n",
       "      <td>434348.849517</td>\n",
       "    </tr>\n",
       "    <tr>\n",
       "      <th>33</th>\n",
       "      <td>Manhattan</td>\n",
       "      <td>R</td>\n",
       "      <td>2017</td>\n",
       "      <td>8.978346e+05</td>\n",
       "      <td>895041.0</td>\n",
       "      <td>10.0</td>\n",
       "      <td>1556799.0</td>\n",
       "      <td>1.274793e+11</td>\n",
       "      <td>357042.404200</td>\n",
       "    </tr>\n",
       "    <tr>\n",
       "      <th>73</th>\n",
       "      <td>Bronx</td>\n",
       "      <td>O</td>\n",
       "      <td>2017</td>\n",
       "      <td>8.868223e+05</td>\n",
       "      <td>941756.0</td>\n",
       "      <td>450000.0</td>\n",
       "      <td>960000.0</td>\n",
       "      <td>1.339007e+11</td>\n",
       "      <td>365924.399856</td>\n",
       "    </tr>\n",
       "    <tr>\n",
       "      <th>147</th>\n",
       "      <td>Queens</td>\n",
       "      <td>E</td>\n",
       "      <td>2017</td>\n",
       "      <td>8.539279e+05</td>\n",
       "      <td>707000.0</td>\n",
       "      <td>1250000.0</td>\n",
       "      <td>1297657.0</td>\n",
       "      <td>2.274052e+11</td>\n",
       "      <td>476870.214816</td>\n",
       "    </tr>\n",
       "  </tbody>\n",
       "</table>\n",
       "</div>"
      ],
      "text/plain": [
       "       BOROUGH BUILDING_CLASS_AT_PRESENT  YEAR          MEAN     MEDIAN  \\\n",
       "109   Brooklyn                         I  2017  1.070000e+06  1070000.0   \n",
       "101   Brooklyn                         E  2017  1.012385e+06  1050000.0   \n",
       "33   Manhattan                         R  2017  8.978346e+05   895041.0   \n",
       "73       Bronx                         O  2017  8.868223e+05   941756.0   \n",
       "147     Queens                         E  2017  8.539279e+05   707000.0   \n",
       "\n",
       "          MODE      RANGE      VARIANCE  STANDARD_DEVIATION  \n",
       "109   975000.0   190000.0  1.805000e+10       134350.288425  \n",
       "101  1000000.0  1524000.0  1.886589e+11       434348.849517  \n",
       "33        10.0  1556799.0  1.274793e+11       357042.404200  \n",
       "73    450000.0   960000.0  1.339007e+11       365924.399856  \n",
       "147  1250000.0  1297657.0  2.274052e+11       476870.214816  "
      ]
     },
     "execution_count": 30,
     "metadata": {},
     "output_type": "execute_result"
    }
   ],
   "source": [
    "top_5 = mct[mct[\"YEAR\"] == 2017].sort_values(\"MEAN\",ascending=False).head(5)\n",
    "top_5"
   ]
  },
  {
   "cell_type": "markdown",
   "id": "53b621c4",
   "metadata": {},
   "source": [
    "Slice the datasets based on BOROUGH, BUILDING_CLASS_AT_PRESENT, and YEAR that have the top 5 highest averages in SALE_PRICE. Then create an array of SALE_PRICE"
   ]
  },
  {
   "cell_type": "code",
   "execution_count": 31,
   "id": "a3acbda1",
   "metadata": {},
   "outputs": [
    {
     "data": {
      "text/plain": [
       "array([ 975000., 1165000.,  585000., ...,  610000., 1450000.,  660000.])"
      ]
     },
     "execution_count": 31,
     "metadata": {},
     "output_type": "execute_result"
    }
   ],
   "source": [
    "temp = []\n",
    "for i,j,k in zip(top_5[\"BOROUGH\"],top_5[\"BUILDING_CLASS_AT_PRESENT\"],top_5[\"YEAR\"]):\n",
    "    temp.append(outliers_removed[(outliers_removed[\"BOROUGH\"] == i) & \n",
    "                                 (outliers_removed[\"BUILDING_CLASS_AT_PRESENT\"] == j) &\n",
    "                                 (outliers_removed[\"YEAR\"] == k)])\n",
    "    \n",
    "top_5_sale_price = np.array(pd.concat(temp)[\"SALE_PRICE\"])\n",
    "top_5_sale_price"
   ]
  },
  {
   "cell_type": "markdown",
   "id": "7ac71fc9",
   "metadata": {},
   "source": [
    "Take 30 random samples and count their means for 500 times. Then add those values into a list called sample_means"
   ]
  },
  {
   "cell_type": "code",
   "execution_count": 32,
   "id": "6a04a51a",
   "metadata": {},
   "outputs": [],
   "source": [
    "np.random.seed(807)\n",
    "sample_means = []\n",
    "n = 30 \n",
    "for sample in range(0,500):\n",
    "    sample_values = np.random.choice(a = top_5_sale_price, size = n)\n",
    "    sample_mean = np.mean(sample_values)\n",
    "    sample_means.append(sample_mean)"
   ]
  },
  {
   "cell_type": "markdown",
   "id": "37ad87a0",
   "metadata": {},
   "source": [
    "Visualize it and we can conclude that our data is normally distributed visually"
   ]
  },
  {
   "cell_type": "code",
   "execution_count": 33,
   "id": "8d85ddc5",
   "metadata": {},
   "outputs": [
    {
     "data": {
      "image/png": "[encoded data removed]",
      "text/plain": [
       "<Figure size 1000x500 with 1 Axes>"
      ]
     },
     "metadata": {
      "needs_background": "light"
     },
     "output_type": "display_data"
    }
   ],
   "source": [
    "plt.figure(figsize=(10,5),dpi=100)\n",
    "ax = sns.histplot(data=sample_means,kde=True,color=\"pink\")\n",
    "ax.lines[0].set_color(\"skyblue\")\n",
    "plt.title(\"Distribution of Sample Means ($n=30$) of Top 5 Sale Price\", fontsize=17)\n",
    "plt.xlabel(\"Sample Mean\", labelpad=14)\n",
    "plt.ylabel(\"Frequency\", labelpad=14);\n",
    "plt.show()"
   ]
  },
  {
   "cell_type": "markdown",
   "id": "eb6cf60c",
   "metadata": {},
   "source": [
    "Calculate the value of z-score"
   ]
  },
  {
   "cell_type": "code",
   "execution_count": 34,
   "id": "72673d00",
   "metadata": {},
   "outputs": [
    {
     "data": {
      "text/plain": [
       "1.9599639845400536"
      ]
     },
     "execution_count": 34,
     "metadata": {},
     "output_type": "execute_result"
    }
   ],
   "source": [
    "conf = 0.95\n",
    "z = NormalDist().inv_cdf((1 + conf) / 2)\n",
    "z "
   ]
  },
  {
   "cell_type": "markdown",
   "id": "f41dbc56",
   "metadata": {},
   "source": [
    "Calculate the mean of sample_means"
   ]
  },
  {
   "cell_type": "code",
   "execution_count": 35,
   "id": "6b15b580",
   "metadata": {},
   "outputs": [
    {
     "data": {
      "text/plain": [
       "898275.1747999999"
      ]
     },
     "execution_count": 35,
     "metadata": {},
     "output_type": "execute_result"
    }
   ],
   "source": [
    "mean_of_sample_means = np.mean(sample_means)\n",
    "mean_of_sample_means"
   ]
  },
  {
   "cell_type": "markdown",
   "id": "998f950c",
   "metadata": {},
   "source": [
    "Calculate the standard deviation of sample_means"
   ]
  },
  {
   "cell_type": "code",
   "execution_count": 36,
   "id": "01817d9d",
   "metadata": {},
   "outputs": [
    {
     "data": {
      "text/plain": [
       "66908.81983262519"
      ]
     },
     "execution_count": 36,
     "metadata": {},
     "output_type": "execute_result"
    }
   ],
   "source": [
    "std_of_sample_means = np.std(sample_means)\n",
    "std_of_sample_means"
   ]
  },
  {
   "cell_type": "markdown",
   "id": "931d2dd1",
   "metadata": {},
   "source": [
    "Calculate the standard deviation of top_5_sale_price"
   ]
  },
  {
   "cell_type": "code",
   "execution_count": 37,
   "id": "37ef8326",
   "metadata": {},
   "outputs": [
    {
     "data": {
      "text/plain": [
       "357812.7052316646"
      ]
     },
     "execution_count": 37,
     "metadata": {},
     "output_type": "execute_result"
    }
   ],
   "source": [
    "pop_std_dev = top_5_sale_price.std()\n",
    "pop_std_dev"
   ]
  },
  {
   "cell_type": "markdown",
   "id": "b9ffa4ef",
   "metadata": {},
   "source": [
    "Calculate the standard error of top_5_sale_price"
   ]
  },
  {
   "cell_type": "code",
   "execution_count": 38,
   "id": "f8338cb0",
   "metadata": {},
   "outputs": [
    {
     "data": {
      "text/plain": [
       "65327.36333910982"
      ]
     },
     "execution_count": 38,
     "metadata": {},
     "output_type": "execute_result"
    }
   ],
   "source": [
    "se_pop = pop_std_dev/np.sqrt(n)\n",
    "se_pop"
   ]
  },
  {
   "cell_type": "markdown",
   "id": "c1dd15ce",
   "metadata": {},
   "source": [
    "Calculate the lower limit of top_5_sale_price"
   ]
  },
  {
   "cell_type": "code",
   "execution_count": 39,
   "id": "dcc7a318",
   "metadata": {},
   "outputs": [
    {
     "data": {
      "text/plain": [
       "770235.8954503824"
      ]
     },
     "execution_count": 39,
     "metadata": {},
     "output_type": "execute_result"
    }
   ],
   "source": [
    "lower = mean_of_sample_means - z*se_pop\n",
    "lower"
   ]
  },
  {
   "cell_type": "markdown",
   "id": "c87db28e",
   "metadata": {},
   "source": [
    "Calculate the upper limit of top_5_sale_price"
   ]
  },
  {
   "cell_type": "code",
   "execution_count": 40,
   "id": "bbcf25a9",
   "metadata": {},
   "outputs": [
    {
     "data": {
      "text/plain": [
       "1026314.4541496175"
      ]
     },
     "execution_count": 40,
     "metadata": {},
     "output_type": "execute_result"
    }
   ],
   "source": [
    "upper = mean_of_sample_means + z*se_pop\n",
    "upper"
   ]
  },
  {
   "cell_type": "markdown",
   "id": "00feaa08",
   "metadata": {},
   "source": [
    "Visualize the confidence interval of the sample_means"
   ]
  },
  {
   "cell_type": "code",
   "execution_count": 41,
   "id": "b16ac968",
   "metadata": {},
   "outputs": [
    {
     "data": {
      "image/png": "[encoded data removed]",
      "text/plain": [
       "<Figure size 1000x500 with 1 Axes>"
      ]
     },
     "metadata": {
      "needs_background": "light"
     },
     "output_type": "display_data"
    }
   ],
   "source": [
    "plt.figure(figsize=(10,5),dpi=100)\n",
    "kde = gaussian_kde(sample_means)\n",
    "pos = np.linspace(np.min(sample_means), np.max(sample_means), 10000)\n",
    "plt.plot(pos, kde(pos), color=\"lightcoral\")\n",
    "shade = np.linspace(lower, upper, 300)\n",
    "\n",
    "plt.fill_between(shade, kde(shade), alpha=0.45, color='lightcoral')\n",
    "plt.xticks([lower,mean_of_sample_means,upper])\n",
    "plt.xlim(xmin=np.min(sample_means),xmax=np.max(sample_means))\n",
    "plt.ylim(ymin=0)\n",
    "\n",
    "left = np.linspace(np.min(sample_means),lower,10000)\n",
    "right = np.linspace(upper,np.max(sample_means),10000)\n",
    "for i in [left,right]:\n",
    "    plt.fill_between(i,kde(i),color=\"pink\",alpha=0.5)\n",
    "    \n",
    "# plt.text(x=154, y=0.01, horizontalalignment='center', fontsize=3, s=\"95% of sample means fall within\\nthis shaded area of plus or minus\\n1.96 z-scores from the mean\", bbox=dict(facecolor='whitesmoke', boxstyle=\"round, pad=0.1\"))\n",
    "plt.title(\"Distribution of Sample Means ($n=30$) of Top 5 Sale Price\", y=1.1, fontsize=17)\n",
    "plt.xlabel(\"Sample Mean\", labelpad=14)\n",
    "plt.ylabel(\"Frequency\", labelpad=14);\n",
    "plt.show()"
   ]
  },
  {
   "cell_type": "markdown",
   "id": "454a6e19",
   "metadata": {},
   "source": [
    "**Conclusion:** Based on the plot, it's determined that there's a $95\\%$ chance that the mean of a sample of $N = 30$ will be within the pink shaded area. Thus, the probability that the mean of a sample with $N = 30$ will be outside the pink shaded area is $100\\% - 95\\%$ or $5\\%$."
   ]
  },
  {
   "cell_type": "markdown",
   "id": "b6936aff",
   "metadata": {},
   "source": [
    "# Probability Distribution & Hypothesis Testing\n",
    "\n",
    "### Hypothesis\n",
    "- $H_{0}$: *top_1_sale_price* data is normally distributed\n",
    "- $H_{1}$: *top_1_sale_price* data is not normally distributed\n",
    "\n",
    "### Significance Level\n",
    "$\\alpha = 5\\%$\n",
    "### Test Statistics"
   ]
  },
  {
   "cell_type": "markdown",
   "id": "ce2c763c",
   "metadata": {},
   "source": [
    "Slice the datasets based on BOROUGH, BUILDING_CLASS_AT_PRESENT, and YEAR that have the top 1 highest averages in SALE_PRICE. Then create an array of SALE_PRICE"
   ]
  },
  {
   "cell_type": "code",
   "execution_count": 42,
   "id": "adb50c12",
   "metadata": {},
   "outputs": [
    {
     "data": {
      "text/html": [
       "<div>\n",
       "<style scoped>\n",
       "    .dataframe tbody tr th:only-of-type {\n",
       "        vertical-align: middle;\n",
       "    }\n",
       "\n",
       "    .dataframe tbody tr th {\n",
       "        vertical-align: top;\n",
       "    }\n",
       "\n",
       "    .dataframe thead th {\n",
       "        text-align: right;\n",
       "    }\n",
       "</style>\n",
       "<table border=\"1\" class=\"dataframe\">\n",
       "  <thead>\n",
       "    <tr style=\"text-align: right;\">\n",
       "      <th></th>\n",
       "      <th>BOROUGH</th>\n",
       "      <th>BUILDING_CLASS_AT_PRESENT</th>\n",
       "      <th>YEAR</th>\n",
       "      <th>MEAN</th>\n",
       "      <th>MEDIAN</th>\n",
       "      <th>MODE</th>\n",
       "      <th>RANGE</th>\n",
       "      <th>VARIANCE</th>\n",
       "      <th>STANDARD_DEVIATION</th>\n",
       "    </tr>\n",
       "  </thead>\n",
       "  <tbody>\n",
       "    <tr>\n",
       "      <th>109</th>\n",
       "      <td>Brooklyn</td>\n",
       "      <td>I</td>\n",
       "      <td>2017</td>\n",
       "      <td>1070000.0</td>\n",
       "      <td>1070000.0</td>\n",
       "      <td>975000.0</td>\n",
       "      <td>190000.0</td>\n",
       "      <td>1.805000e+10</td>\n",
       "      <td>134350.288425</td>\n",
       "    </tr>\n",
       "  </tbody>\n",
       "</table>\n",
       "</div>"
      ],
      "text/plain": [
       "      BOROUGH BUILDING_CLASS_AT_PRESENT  YEAR       MEAN     MEDIAN      MODE  \\\n",
       "109  Brooklyn                         I  2017  1070000.0  1070000.0  975000.0   \n",
       "\n",
       "        RANGE      VARIANCE  STANDARD_DEVIATION  \n",
       "109  190000.0  1.805000e+10       134350.288425  "
      ]
     },
     "execution_count": 42,
     "metadata": {},
     "output_type": "execute_result"
    }
   ],
   "source": [
    "top_1 = mct[mct[\"YEAR\"] == 2017].sort_values(\"MEAN\",ascending=False).head(1)\n",
    "top_1"
   ]
  },
  {
   "cell_type": "code",
   "execution_count": 43,
   "id": "01a8cacb",
   "metadata": {},
   "outputs": [
    {
     "data": {
      "text/plain": [
       "array([ 4300000.,  7750184., 11750000.,  5757500., 27813450.,  8550000.,\n",
       "         975000.,  1165000.])"
      ]
     },
     "execution_count": 43,
     "metadata": {},
     "output_type": "execute_result"
    }
   ],
   "source": [
    "top_1_sale_price = np.array(df[(df[\"BOROUGH\"]==top_1[\"BOROUGH\"].iloc[0]) & \n",
    "                               (df[\"BUILDING_CLASS_AT_PRESENT\"]==top_1[\"BUILDING_CLASS_AT_PRESENT\"].iloc[0]) &\n",
    "                               (df[\"YEAR\"]==top_1[\"YEAR\"].iloc[0])][\"SALE_PRICE\"])\n",
    "top_1_sale_price"
   ]
  },
  {
   "cell_type": "markdown",
   "id": "6e775f22",
   "metadata": {},
   "source": [
    "Visualize with histogram to check the normality visually and check normality formally using Kolmorogov-Smirnov with Lilliefors significance correction and Shapiro-Wilk tests."
   ]
  },
  {
   "cell_type": "code",
   "execution_count": 44,
   "id": "6daa0d91",
   "metadata": {},
   "outputs": [
    {
     "data": {
      "image/png": "[encoded data removed]",
      "text/plain": [
       "<Figure size 1000x400 with 1 Axes>"
      ]
     },
     "metadata": {
      "needs_background": "light"
     },
     "output_type": "display_data"
    },
    {
     "data": {
      "text/html": [
       "<div>\n",
       "<style scoped>\n",
       "    .dataframe tbody tr th:only-of-type {\n",
       "        vertical-align: middle;\n",
       "    }\n",
       "\n",
       "    .dataframe tbody tr th {\n",
       "        vertical-align: top;\n",
       "    }\n",
       "\n",
       "    .dataframe thead th {\n",
       "        text-align: right;\n",
       "    }\n",
       "</style>\n",
       "<table border=\"1\" class=\"dataframe\">\n",
       "  <thead>\n",
       "    <tr style=\"text-align: right;\">\n",
       "      <th></th>\n",
       "      <th>Kolmogorov-Smirnov</th>\n",
       "      <th>Prob. (K-S)</th>\n",
       "      <th>Shapiro-Wilk</th>\n",
       "      <th>Prob. (S-W)</th>\n",
       "    </tr>\n",
       "  </thead>\n",
       "  <tbody>\n",
       "    <tr>\n",
       "      <th></th>\n",
       "      <td>0.248039</td>\n",
       "      <td>0.171827</td>\n",
       "      <td>0.804168</td>\n",
       "      <td>0.031717</td>\n",
       "    </tr>\n",
       "  </tbody>\n",
       "</table>\n",
       "</div>"
      ],
      "text/plain": [
       "  Kolmogorov-Smirnov  Prob. (K-S)  Shapiro-Wilk  Prob. (S-W)\n",
       "            0.248039     0.171827      0.804168     0.031717"
      ]
     },
     "execution_count": 44,
     "metadata": {},
     "output_type": "execute_result"
    }
   ],
   "source": [
    "plt.figure(figsize=(10,4), dpi=100)\n",
    "ax = sns.histplot(data=top_1_sale_price,bins=10,kde=True, color=\"pink\")\n",
    "ax.lines[0].set_color(\"lightcoral\")\n",
    "plt.xlabel(\"Sales Price\")\n",
    "plt.ylabel(\"Frequency\")\n",
    "plt.title(\"Distribution of Top 1 Sales Price\", fontsize=17)\n",
    "\n",
    "plt.show()\n",
    "\n",
    "ks_stat,ks_pval = lilliefors(top_1_sale_price,dist=\"norm\",pvalmethod=\"approx\")\n",
    "sw_stat,sw_pval = shapiro(top_1_sale_price)\n",
    "pd.DataFrame({\n",
    "    \"Kolmogorov-Smirnov\":[ks_stat],\n",
    "    \"Prob. (K-S)\":[ks_pval],\n",
    "    \"Shapiro-Wilk\":[sw_stat],\n",
    "    \"Prob. (S-W)\":[sw_pval]\n",
    "},index=[\"\"])"
   ]
  },
  {
   "cell_type": "markdown",
   "id": "5d68d426",
   "metadata": {},
   "source": [
    "**Conclusion:** Based on the output above, it can be seen visually that the distribution has a substantial positive skewness, so it can be concluded that the data are not normally distributed. Then formally, the probability of Kolmogorov-Smirnov $= 0.172 > \\alpha = 0.05$ and the probability of Shapiro-Wilk $= 0.03 < \\alpha = 0.05$ so that it can be concluded that the data are not normally distributed. Therefore, the assumption of normality visually and formally has not been fulfilled, so a transformation is necessary. "
   ]
  },
  {
   "cell_type": "code",
   "execution_count": 45,
   "id": "c96ee689",
   "metadata": {},
   "outputs": [
    {
     "data": {
      "text/plain": [
       "array([6.63346846, 6.88931201, 7.07003787, 6.76023395, 7.44425486,\n",
       "       6.93196611, 5.98900462, 6.06632593])"
      ]
     },
     "execution_count": 45,
     "metadata": {},
     "output_type": "execute_result"
    }
   ],
   "source": [
    "transform = np.log10(top_1_sale_price)\n",
    "transform"
   ]
  },
  {
   "cell_type": "markdown",
   "id": "7e3addef",
   "metadata": {},
   "source": [
    "Then repeat with the same step, visualize with histogram to check the normality visually and check normality formally using Kolmorogov-Smirnov with Lilliefors significance correction and Shapiro-Wilk tests"
   ]
  },
  {
   "cell_type": "code",
   "execution_count": 46,
   "id": "d5c644e4",
   "metadata": {},
   "outputs": [
    {
     "data": {
      "image/png": "[encoded data removed]",
      "text/plain": [
       "<Figure size 1000x400 with 1 Axes>"
      ]
     },
     "metadata": {
      "needs_background": "light"
     },
     "output_type": "display_data"
    },
    {
     "data": {
      "text/html": [
       "<div>\n",
       "<style scoped>\n",
       "    .dataframe tbody tr th:only-of-type {\n",
       "        vertical-align: middle;\n",
       "    }\n",
       "\n",
       "    .dataframe tbody tr th {\n",
       "        vertical-align: top;\n",
       "    }\n",
       "\n",
       "    .dataframe thead th {\n",
       "        text-align: right;\n",
       "    }\n",
       "</style>\n",
       "<table border=\"1\" class=\"dataframe\">\n",
       "  <thead>\n",
       "    <tr style=\"text-align: right;\">\n",
       "      <th></th>\n",
       "      <th>Kolmogorov-Smirnov</th>\n",
       "      <th>Prob. (K-S)</th>\n",
       "      <th>Shapiro-Wilk</th>\n",
       "      <th>Prob. (S-W)</th>\n",
       "    </tr>\n",
       "  </thead>\n",
       "  <tbody>\n",
       "    <tr>\n",
       "      <th></th>\n",
       "      <td>0.177676</td>\n",
       "      <td>0.645378</td>\n",
       "      <td>0.93502</td>\n",
       "      <td>0.562837</td>\n",
       "    </tr>\n",
       "  </tbody>\n",
       "</table>\n",
       "</div>"
      ],
      "text/plain": [
       "  Kolmogorov-Smirnov  Prob. (K-S)  Shapiro-Wilk  Prob. (S-W)\n",
       "            0.177676     0.645378       0.93502     0.562837"
      ]
     },
     "execution_count": 46,
     "metadata": {},
     "output_type": "execute_result"
    }
   ],
   "source": [
    "plt.figure(figsize=(10,4), dpi=100)\n",
    "ax = sns.histplot(data=transform,bins=10,kde=True, color=\"pink\")\n",
    "ax.lines[0].set_color(\"lightcoral\")\n",
    "plt.xlabel(\"Sales Price\")\n",
    "plt.ylabel(\"Frequency\")\n",
    "plt.title(\"Distribution of Top 1 Sales Price\", fontsize=17)\n",
    "\n",
    "plt.show()\n",
    "\n",
    "ks_stat,ks_pval = lilliefors(transform,dist=\"norm\",pvalmethod=\"approx\")\n",
    "sw_stat,sw_pval = shapiro(transform)\n",
    "pd.DataFrame({\n",
    "    \"Kolmogorov-Smirnov\":[ks_stat],\n",
    "    \"Prob. (K-S)\":[ks_pval],\n",
    "    \"Shapiro-Wilk\":[sw_stat],\n",
    "    \"Prob. (S-W)\":[sw_pval]\n",
    "},index=[\"\"])"
   ]
  },
  {
   "cell_type": "markdown",
   "id": "1c48b403",
   "metadata": {},
   "source": [
    "**Conclusion:** Based on the output above, it can be seen visually that the distribution is approximately symmetric, so it seems it's normally distributed. Then formally, the probability of Kolmogorov-Smirnov $= 0.65 > \\alpha = 0.05$ and the p-values of Shapiro-Wilk $= 0.56 > \\alpha = 0.05$ so that it can be concluded that the data are normally distributed. Therefore, the assumption of normality visually and formally fulfilled."
   ]
  }
 ],
 "metadata": {
  "kernelspec": {
   "display_name": "Python 3 (ipykernel)",
   "language": "python",
   "name": "python3"
  },
  "language_info": {
   "codemirror_mode": {
    "name": "ipython",
    "version": 3
   },
   "file_extension": ".py",
   "mimetype": "text/x-python",
   "name": "python",
   "nbconvert_exporter": "python",
   "pygments_lexer": "ipython3",
   "version": "3.9.7"
  },
  "toc": {
   "base_numbering": 1,
   "nav_menu": {},
   "number_sections": true,
   "sideBar": true,
   "skip_h1_title": false,
   "title_cell": "Table of Contents",
   "title_sidebar": "Contents",
   "toc_cell": false,
   "toc_position": {},
   "toc_section_display": true,
   "toc_window_display": false
  }
 },
 "nbformat": 4,
 "nbformat_minor": 5
}
